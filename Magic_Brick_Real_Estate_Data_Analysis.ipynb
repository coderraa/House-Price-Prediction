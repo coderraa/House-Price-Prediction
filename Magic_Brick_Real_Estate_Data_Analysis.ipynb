{
 "cells": [
  {
   "cell_type": "markdown",
   "metadata": {},
   "source": [
    "# Real Estate data Analysis"
   ]
  },
  {
   "cell_type": "code",
   "execution_count": 2,
   "metadata": {},
   "outputs": [],
   "source": [
    "import numpy as np\n",
    "import pandas as pd\n",
    "import sklearn.linear_model as lm\n",
    "import matplotlib.pyplot as plt\n",
    "from sklearn.linear_model import Ridge\n",
    "from yellowbrick.regressor import ResidualsPlot\n",
    "import warnings\n",
    "%matplotlib inline\n",
    "import seaborn as sns"
   ]
  },
  {
   "cell_type": "markdown",
   "metadata": {},
   "source": [
    "# Original scraped data"
   ]
  },
  {
   "cell_type": "code",
   "execution_count": 3,
   "metadata": {},
   "outputs": [],
   "source": [
    "org = pd.read_excel(\"C:/Users/Lenovo/Downloads/Scrapdata.xlsx\")"
   ]
  },
  {
   "cell_type": "code",
   "execution_count": 4,
   "metadata": {},
   "outputs": [
    {
     "data": {
      "text/html": [
       "<div>\n",
       "<style scoped>\n",
       "    .dataframe tbody tr th:only-of-type {\n",
       "        vertical-align: middle;\n",
       "    }\n",
       "\n",
       "    .dataframe tbody tr th {\n",
       "        vertical-align: top;\n",
       "    }\n",
       "\n",
       "    .dataframe thead th {\n",
       "        text-align: right;\n",
       "    }\n",
       "</style>\n",
       "<table border=\"1\" class=\"dataframe\">\n",
       "  <thead>\n",
       "    <tr style=\"text-align: right;\">\n",
       "      <th></th>\n",
       "      <th>price</th>\n",
       "      <th>bhk</th>\n",
       "      <th>detail</th>\n",
       "    </tr>\n",
       "  </thead>\n",
       "  <tbody>\n",
       "    <tr>\n",
       "      <th>0</th>\n",
       "      <td>1.57 Cr ₹ 1.57 Cr</td>\n",
       "      <td>1 BHK Apartment</td>\n",
       "      <td>460 sqft Ready to Move 5 New Property Unfurnis...</td>\n",
       "    </tr>\n",
       "    <tr>\n",
       "      <th>1</th>\n",
       "      <td>1.85 Cr ₹ 1.85 Cr</td>\n",
       "      <td>2 BHK Apartment</td>\n",
       "      <td>670 sqft Ready to Move New Property Semi-Furni...</td>\n",
       "    </tr>\n",
       "    <tr>\n",
       "      <th>2</th>\n",
       "      <td>37.1 Lac ₹ 37.1 Lac</td>\n",
       "      <td>1 BHK Apartment</td>\n",
       "      <td>410 sqft Ready to Move New Property Unfurnishe...</td>\n",
       "    </tr>\n",
       "    <tr>\n",
       "      <th>3</th>\n",
       "      <td>1.15 Cr ₹ 1.15 Cr</td>\n",
       "      <td>1 BHK Apartment</td>\n",
       "      <td>488 sqft Possession by Apr '20 New Property Un...</td>\n",
       "    </tr>\n",
       "    <tr>\n",
       "      <th>4</th>\n",
       "      <td>39.3 Lac ₹ 39.3 Lac</td>\n",
       "      <td>1 BHK Apartment</td>\n",
       "      <td>439 sqft Possession by Jun '21 New Property Un...</td>\n",
       "    </tr>\n",
       "  </tbody>\n",
       "</table>\n",
       "</div>"
      ],
      "text/plain": [
       "                 price              bhk  \\\n",
       "0    1.57 Cr ₹ 1.57 Cr  1 BHK Apartment   \n",
       "1    1.85 Cr ₹ 1.85 Cr  2 BHK Apartment   \n",
       "2  37.1 Lac ₹ 37.1 Lac  1 BHK Apartment   \n",
       "3    1.15 Cr ₹ 1.15 Cr  1 BHK Apartment   \n",
       "4  39.3 Lac ₹ 39.3 Lac  1 BHK Apartment   \n",
       "\n",
       "                                              detail  \n",
       "0  460 sqft Ready to Move 5 New Property Unfurnis...  \n",
       "1  670 sqft Ready to Move New Property Semi-Furni...  \n",
       "2  410 sqft Ready to Move New Property Unfurnishe...  \n",
       "3  488 sqft Possession by Apr '20 New Property Un...  \n",
       "4  439 sqft Possession by Jun '21 New Property Un...  "
      ]
     },
     "execution_count": 4,
     "metadata": {},
     "output_type": "execute_result"
    }
   ],
   "source": [
    "org.head()"
   ]
  },
  {
   "cell_type": "code",
   "execution_count": 5,
   "metadata": {},
   "outputs": [
    {
     "data": {
      "text/html": [
       "<div>\n",
       "<style scoped>\n",
       "    .dataframe tbody tr th:only-of-type {\n",
       "        vertical-align: middle;\n",
       "    }\n",
       "\n",
       "    .dataframe tbody tr th {\n",
       "        vertical-align: top;\n",
       "    }\n",
       "\n",
       "    .dataframe thead th {\n",
       "        text-align: right;\n",
       "    }\n",
       "</style>\n",
       "<table border=\"1\" class=\"dataframe\">\n",
       "  <thead>\n",
       "    <tr style=\"text-align: right;\">\n",
       "      <th></th>\n",
       "      <th>price</th>\n",
       "      <th>bhk</th>\n",
       "      <th>detail</th>\n",
       "    </tr>\n",
       "  </thead>\n",
       "  <tbody>\n",
       "    <tr>\n",
       "      <th>count</th>\n",
       "      <td>1500</td>\n",
       "      <td>1500</td>\n",
       "      <td>1500</td>\n",
       "    </tr>\n",
       "    <tr>\n",
       "      <th>unique</th>\n",
       "      <td>395</td>\n",
       "      <td>26</td>\n",
       "      <td>1498</td>\n",
       "    </tr>\n",
       "    <tr>\n",
       "      <th>top</th>\n",
       "      <td>1.50 Cr ₹ 1.50 Cr</td>\n",
       "      <td>2 BHK Apartment</td>\n",
       "      <td>800 sqft Ready to Move Resale Semi-Furnished E...</td>\n",
       "    </tr>\n",
       "    <tr>\n",
       "      <th>freq</th>\n",
       "      <td>28</td>\n",
       "      <td>602</td>\n",
       "      <td>2</td>\n",
       "    </tr>\n",
       "  </tbody>\n",
       "</table>\n",
       "</div>"
      ],
      "text/plain": [
       "                    price              bhk  \\\n",
       "count                1500             1500   \n",
       "unique                395               26   \n",
       "top     1.50 Cr ₹ 1.50 Cr  2 BHK Apartment   \n",
       "freq                   28              602   \n",
       "\n",
       "                                                   detail  \n",
       "count                                                1500  \n",
       "unique                                               1498  \n",
       "top     800 sqft Ready to Move Resale Semi-Furnished E...  \n",
       "freq                                                    2  "
      ]
     },
     "execution_count": 5,
     "metadata": {},
     "output_type": "execute_result"
    }
   ],
   "source": [
    "org.describe(include=\"all\")"
   ]
  },
  {
   "cell_type": "markdown",
   "metadata": {},
   "source": [
    "# Modified in Excel"
   ]
  },
  {
   "cell_type": "code",
   "execution_count": 6,
   "metadata": {},
   "outputs": [],
   "source": [
    "df = pd.read_excel(\"C:/Users/Lenovo/Desktop/extra/desktop/real_estate_data.xlsx\")"
   ]
  },
  {
   "cell_type": "code",
   "execution_count": 7,
   "metadata": {},
   "outputs": [
    {
     "data": {
      "text/html": [
       "<div>\n",
       "<style scoped>\n",
       "    .dataframe tbody tr th:only-of-type {\n",
       "        vertical-align: middle;\n",
       "    }\n",
       "\n",
       "    .dataframe tbody tr th {\n",
       "        vertical-align: top;\n",
       "    }\n",
       "\n",
       "    .dataframe thead th {\n",
       "        text-align: right;\n",
       "    }\n",
       "</style>\n",
       "<table border=\"1\" class=\"dataframe\">\n",
       "  <thead>\n",
       "    <tr style=\"text-align: right;\">\n",
       "      <th></th>\n",
       "      <th>price</th>\n",
       "      <th>unit</th>\n",
       "      <th>No_of_rooms</th>\n",
       "      <th>bhk</th>\n",
       "      <th>type</th>\n",
       "      <th>area</th>\n",
       "      <th>area_unit</th>\n",
       "      <th>type_of_move</th>\n",
       "      <th>month</th>\n",
       "      <th>day</th>\n",
       "      <th>New_old</th>\n",
       "      <th>furnished</th>\n",
       "      <th>details</th>\n",
       "    </tr>\n",
       "  </thead>\n",
       "  <tbody>\n",
       "    <tr>\n",
       "      <th>0</th>\n",
       "      <td>1.57</td>\n",
       "      <td>Cr</td>\n",
       "      <td>1</td>\n",
       "      <td>BHK</td>\n",
       "      <td>Apartment</td>\n",
       "      <td>460</td>\n",
       "      <td>sqft</td>\n",
       "      <td>Ready</td>\n",
       "      <td>Jan</td>\n",
       "      <td>5</td>\n",
       "      <td>New</td>\n",
       "      <td>Unfurnished</td>\n",
       "      <td>Alfa Mana A M Residency</td>\n",
       "    </tr>\n",
       "    <tr>\n",
       "      <th>1</th>\n",
       "      <td>1.85</td>\n",
       "      <td>Cr</td>\n",
       "      <td>2</td>\n",
       "      <td>BHK</td>\n",
       "      <td>Apartment</td>\n",
       "      <td>670</td>\n",
       "      <td>sqft</td>\n",
       "      <td>Ready</td>\n",
       "      <td>Jan</td>\n",
       "      <td>1</td>\n",
       "      <td>New</td>\n",
       "      <td>Semi-Furnished</td>\n",
       "      <td>Heights 1 Covered 2</td>\n",
       "    </tr>\n",
       "    <tr>\n",
       "      <th>2</th>\n",
       "      <td>37.10</td>\n",
       "      <td>Lac</td>\n",
       "      <td>1</td>\n",
       "      <td>BHK</td>\n",
       "      <td>Apartment</td>\n",
       "      <td>410</td>\n",
       "      <td>sqft</td>\n",
       "      <td>Ready</td>\n",
       "      <td>Jan</td>\n",
       "      <td>1</td>\n",
       "      <td>New</td>\n",
       "      <td>Unfurnished</td>\n",
       "      <td>Baria Everest 2</td>\n",
       "    </tr>\n",
       "    <tr>\n",
       "      <th>3</th>\n",
       "      <td>1.15</td>\n",
       "      <td>Cr</td>\n",
       "      <td>1</td>\n",
       "      <td>BHK</td>\n",
       "      <td>Apartment</td>\n",
       "      <td>488</td>\n",
       "      <td>sqft</td>\n",
       "      <td>Possession</td>\n",
       "      <td>Apr</td>\n",
       "      <td>20</td>\n",
       "      <td>New</td>\n",
       "      <td>Unfurnished</td>\n",
       "      <td>Sonal Heights 1</td>\n",
       "    </tr>\n",
       "    <tr>\n",
       "      <th>4</th>\n",
       "      <td>39.30</td>\n",
       "      <td>Lac</td>\n",
       "      <td>1</td>\n",
       "      <td>BHK</td>\n",
       "      <td>Apartment</td>\n",
       "      <td>439</td>\n",
       "      <td>sqft</td>\n",
       "      <td>Possession</td>\n",
       "      <td>Jun</td>\n",
       "      <td>21</td>\n",
       "      <td>New</td>\n",
       "      <td>Unfurnished</td>\n",
       "      <td>Joyville Virar 1</td>\n",
       "    </tr>\n",
       "  </tbody>\n",
       "</table>\n",
       "</div>"
      ],
      "text/plain": [
       "   price unit No_of_rooms  bhk       type  area area_unit type_of_move month  \\\n",
       "0   1.57   Cr           1  BHK  Apartment   460      sqft        Ready   Jan   \n",
       "1   1.85   Cr           2  BHK  Apartment   670      sqft        Ready   Jan   \n",
       "2  37.10  Lac           1  BHK  Apartment   410      sqft        Ready   Jan   \n",
       "3   1.15   Cr           1  BHK  Apartment   488      sqft   Possession   Apr   \n",
       "4  39.30  Lac           1  BHK  Apartment   439      sqft   Possession   Jun   \n",
       "\n",
       "  day New_old       furnished                  details  \n",
       "0   5     New     Unfurnished  Alfa Mana A M Residency  \n",
       "1   1     New  Semi-Furnished      Heights 1 Covered 2  \n",
       "2   1     New     Unfurnished          Baria Everest 2  \n",
       "3  20     New     Unfurnished          Sonal Heights 1  \n",
       "4  21     New     Unfurnished         Joyville Virar 1  "
      ]
     },
     "execution_count": 7,
     "metadata": {},
     "output_type": "execute_result"
    }
   ],
   "source": [
    "df.head()"
   ]
  },
  {
   "cell_type": "code",
   "execution_count": 8,
   "metadata": {},
   "outputs": [
    {
     "name": "stdout",
     "output_type": "stream",
     "text": [
      "<class 'pandas.core.frame.DataFrame'>\n",
      "RangeIndex: 1500 entries, 0 to 1499\n",
      "Data columns (total 13 columns):\n",
      "price           1500 non-null float64\n",
      "unit            1500 non-null object\n",
      "No_of_rooms     1500 non-null object\n",
      "bhk             1496 non-null object\n",
      "type            1482 non-null object\n",
      "area            1500 non-null int64\n",
      "area_unit       1500 non-null object\n",
      "type_of_move    1500 non-null object\n",
      "month           1500 non-null object\n",
      "day             1500 non-null object\n",
      "New_old         1500 non-null object\n",
      "furnished       1498 non-null object\n",
      "details         1465 non-null object\n",
      "dtypes: float64(1), int64(1), object(11)\n",
      "memory usage: 152.4+ KB\n"
     ]
    }
   ],
   "source": [
    "df.info()"
   ]
  },
  {
   "cell_type": "code",
   "execution_count": 1,
   "metadata": {
    "scrolled": true
   },
   "outputs": [
    {
     "ename": "NameError",
     "evalue": "name 'df' is not defined",
     "output_type": "error",
     "traceback": [
      "\u001b[1;31m---------------------------------------------------------------------------\u001b[0m",
      "\u001b[1;31mNameError\u001b[0m                                 Traceback (most recent call last)",
      "\u001b[1;32m<ipython-input-1-2dfdf8238528>\u001b[0m in \u001b[0;36m<module>\u001b[1;34m\u001b[0m\n\u001b[1;32m----> 1\u001b[1;33m \u001b[0mdf\u001b[0m\u001b[1;33m.\u001b[0m\u001b[0misnull\u001b[0m\u001b[1;33m(\u001b[0m\u001b[1;33m)\u001b[0m\u001b[1;33m.\u001b[0m\u001b[0many\u001b[0m\u001b[1;33m(\u001b[0m\u001b[1;33m)\u001b[0m\u001b[1;33m\u001b[0m\u001b[1;33m\u001b[0m\u001b[0m\n\u001b[0m",
      "\u001b[1;31mNameError\u001b[0m: name 'df' is not defined"
     ]
    }
   ],
   "source": [
    "df.isnull().sum()"
   ]
  },
  {
   "cell_type": "code",
   "execution_count": 10,
   "metadata": {},
   "outputs": [
    {
     "name": "stdout",
     "output_type": "stream",
     "text": [
      "furnished:  ['Unfurnished' 'Semi-Furnished' 'furnished' 'Furnished' 'Basement'\n",
      " 'Resale' 'South' 'West' nan 'Society' 'Garden/Park,' 'Garden/Park'\n",
      " 'Co-operative' 1 3 'Main' 'Freehold']\n",
      "unit:  ['Cr' 'Lac']\n",
      "No_of_rooms:  [1 2 3 4 5 'Studio' 'House' 'Apartment' 6]\n",
      "bhk:  ['BHK' 'Apartment' nan]\n",
      "type:  ['Apartment' 'Villa' 'House' 'Builder' nan 'Penthouse']\n",
      "area_unit:  ['sqft' 'qm' 'qft' 'sqm' 'bigha']\n",
      "type_of_move:  ['Ready' 'Possession' 'New' 20 40 16 27 14 9 1 7 2 6 12 5 3 19 18]\n"
     ]
    }
   ],
   "source": [
    "print(\"furnished: \",df[\"furnished\"].unique())\n",
    "print(\"unit: \",df[\"unit\"].unique())\n",
    "print(\"No_of_rooms: \",df[\"No_of_rooms\"].unique())\n",
    "print(\"bhk: \",df[\"bhk\"].unique())\n",
    "print(\"type: \",df[\"type\"].unique())\n",
    "print(\"area_unit: \",df[\"area_unit\"].unique())\n",
    "print(\"type_of_move: \",df[\"type_of_move\"].unique())"
   ]
  },
  {
   "cell_type": "code",
   "execution_count": 11,
   "metadata": {},
   "outputs": [
    {
     "data": {
      "text/html": [
       "<div>\n",
       "<style scoped>\n",
       "    .dataframe tbody tr th:only-of-type {\n",
       "        vertical-align: middle;\n",
       "    }\n",
       "\n",
       "    .dataframe tbody tr th {\n",
       "        vertical-align: top;\n",
       "    }\n",
       "\n",
       "    .dataframe thead th {\n",
       "        text-align: right;\n",
       "    }\n",
       "</style>\n",
       "<table border=\"1\" class=\"dataframe\">\n",
       "  <thead>\n",
       "    <tr style=\"text-align: right;\">\n",
       "      <th></th>\n",
       "      <th>price</th>\n",
       "      <th>unit</th>\n",
       "      <th>No_of_rooms</th>\n",
       "      <th>bhk</th>\n",
       "      <th>type</th>\n",
       "      <th>area</th>\n",
       "      <th>area_unit</th>\n",
       "      <th>type_of_move</th>\n",
       "      <th>month</th>\n",
       "      <th>day</th>\n",
       "      <th>New_old</th>\n",
       "      <th>furnished</th>\n",
       "      <th>details</th>\n",
       "    </tr>\n",
       "  </thead>\n",
       "  <tbody>\n",
       "    <tr>\n",
       "      <th>count</th>\n",
       "      <td>1500.000000</td>\n",
       "      <td>1500</td>\n",
       "      <td>1500.0</td>\n",
       "      <td>1496</td>\n",
       "      <td>1482</td>\n",
       "      <td>1500.000000</td>\n",
       "      <td>1500</td>\n",
       "      <td>1500</td>\n",
       "      <td>1500</td>\n",
       "      <td>1500.0</td>\n",
       "      <td>1500</td>\n",
       "      <td>1498</td>\n",
       "      <td>1465</td>\n",
       "    </tr>\n",
       "    <tr>\n",
       "      <th>unique</th>\n",
       "      <td>NaN</td>\n",
       "      <td>2</td>\n",
       "      <td>9.0</td>\n",
       "      <td>2</td>\n",
       "      <td>5</td>\n",
       "      <td>NaN</td>\n",
       "      <td>5</td>\n",
       "      <td>18</td>\n",
       "      <td>13</td>\n",
       "      <td>43.0</td>\n",
       "      <td>1</td>\n",
       "      <td>16</td>\n",
       "      <td>530</td>\n",
       "    </tr>\n",
       "    <tr>\n",
       "      <th>top</th>\n",
       "      <td>NaN</td>\n",
       "      <td>Cr</td>\n",
       "      <td>2.0</td>\n",
       "      <td>BHK</td>\n",
       "      <td>Apartment</td>\n",
       "      <td>NaN</td>\n",
       "      <td>sqft</td>\n",
       "      <td>Ready</td>\n",
       "      <td>Jan</td>\n",
       "      <td>1.0</td>\n",
       "      <td>New</td>\n",
       "      <td>furnished</td>\n",
       "      <td>floors Resale Semi-Furnished North -</td>\n",
       "    </tr>\n",
       "    <tr>\n",
       "      <th>freq</th>\n",
       "      <td>NaN</td>\n",
       "      <td>1048</td>\n",
       "      <td>641.0</td>\n",
       "      <td>1482</td>\n",
       "      <td>1373</td>\n",
       "      <td>NaN</td>\n",
       "      <td>1492</td>\n",
       "      <td>1101</td>\n",
       "      <td>1121</td>\n",
       "      <td>270.0</td>\n",
       "      <td>1500</td>\n",
       "      <td>1334</td>\n",
       "      <td>41</td>\n",
       "    </tr>\n",
       "    <tr>\n",
       "      <th>mean</th>\n",
       "      <td>21.160020</td>\n",
       "      <td>NaN</td>\n",
       "      <td>NaN</td>\n",
       "      <td>NaN</td>\n",
       "      <td>NaN</td>\n",
       "      <td>776.986000</td>\n",
       "      <td>NaN</td>\n",
       "      <td>NaN</td>\n",
       "      <td>NaN</td>\n",
       "      <td>NaN</td>\n",
       "      <td>NaN</td>\n",
       "      <td>NaN</td>\n",
       "      <td>NaN</td>\n",
       "    </tr>\n",
       "    <tr>\n",
       "      <th>std</th>\n",
       "      <td>30.478536</td>\n",
       "      <td>NaN</td>\n",
       "      <td>NaN</td>\n",
       "      <td>NaN</td>\n",
       "      <td>NaN</td>\n",
       "      <td>495.812281</td>\n",
       "      <td>NaN</td>\n",
       "      <td>NaN</td>\n",
       "      <td>NaN</td>\n",
       "      <td>NaN</td>\n",
       "      <td>NaN</td>\n",
       "      <td>NaN</td>\n",
       "      <td>NaN</td>\n",
       "    </tr>\n",
       "    <tr>\n",
       "      <th>min</th>\n",
       "      <td>1.000000</td>\n",
       "      <td>NaN</td>\n",
       "      <td>NaN</td>\n",
       "      <td>NaN</td>\n",
       "      <td>NaN</td>\n",
       "      <td>34.000000</td>\n",
       "      <td>NaN</td>\n",
       "      <td>NaN</td>\n",
       "      <td>NaN</td>\n",
       "      <td>NaN</td>\n",
       "      <td>NaN</td>\n",
       "      <td>NaN</td>\n",
       "      <td>NaN</td>\n",
       "    </tr>\n",
       "    <tr>\n",
       "      <th>25%</th>\n",
       "      <td>1.700000</td>\n",
       "      <td>NaN</td>\n",
       "      <td>NaN</td>\n",
       "      <td>NaN</td>\n",
       "      <td>NaN</td>\n",
       "      <td>467.750000</td>\n",
       "      <td>NaN</td>\n",
       "      <td>NaN</td>\n",
       "      <td>NaN</td>\n",
       "      <td>NaN</td>\n",
       "      <td>NaN</td>\n",
       "      <td>NaN</td>\n",
       "      <td>NaN</td>\n",
       "    </tr>\n",
       "    <tr>\n",
       "      <th>50%</th>\n",
       "      <td>2.950000</td>\n",
       "      <td>NaN</td>\n",
       "      <td>NaN</td>\n",
       "      <td>NaN</td>\n",
       "      <td>NaN</td>\n",
       "      <td>675.000000</td>\n",
       "      <td>NaN</td>\n",
       "      <td>NaN</td>\n",
       "      <td>NaN</td>\n",
       "      <td>NaN</td>\n",
       "      <td>NaN</td>\n",
       "      <td>NaN</td>\n",
       "      <td>NaN</td>\n",
       "    </tr>\n",
       "    <tr>\n",
       "      <th>75%</th>\n",
       "      <td>36.000000</td>\n",
       "      <td>NaN</td>\n",
       "      <td>NaN</td>\n",
       "      <td>NaN</td>\n",
       "      <td>NaN</td>\n",
       "      <td>900.000000</td>\n",
       "      <td>NaN</td>\n",
       "      <td>NaN</td>\n",
       "      <td>NaN</td>\n",
       "      <td>NaN</td>\n",
       "      <td>NaN</td>\n",
       "      <td>NaN</td>\n",
       "      <td>NaN</td>\n",
       "    </tr>\n",
       "    <tr>\n",
       "      <th>max</th>\n",
       "      <td>99.000000</td>\n",
       "      <td>NaN</td>\n",
       "      <td>NaN</td>\n",
       "      <td>NaN</td>\n",
       "      <td>NaN</td>\n",
       "      <td>5400.000000</td>\n",
       "      <td>NaN</td>\n",
       "      <td>NaN</td>\n",
       "      <td>NaN</td>\n",
       "      <td>NaN</td>\n",
       "      <td>NaN</td>\n",
       "      <td>NaN</td>\n",
       "      <td>NaN</td>\n",
       "    </tr>\n",
       "  </tbody>\n",
       "</table>\n",
       "</div>"
      ],
      "text/plain": [
       "              price  unit  No_of_rooms   bhk       type         area  \\\n",
       "count   1500.000000  1500       1500.0  1496       1482  1500.000000   \n",
       "unique          NaN     2          9.0     2          5          NaN   \n",
       "top             NaN    Cr          2.0   BHK  Apartment          NaN   \n",
       "freq            NaN  1048        641.0  1482       1373          NaN   \n",
       "mean      21.160020   NaN          NaN   NaN        NaN   776.986000   \n",
       "std       30.478536   NaN          NaN   NaN        NaN   495.812281   \n",
       "min        1.000000   NaN          NaN   NaN        NaN    34.000000   \n",
       "25%        1.700000   NaN          NaN   NaN        NaN   467.750000   \n",
       "50%        2.950000   NaN          NaN   NaN        NaN   675.000000   \n",
       "75%       36.000000   NaN          NaN   NaN        NaN   900.000000   \n",
       "max       99.000000   NaN          NaN   NaN        NaN  5400.000000   \n",
       "\n",
       "       area_unit type_of_move month     day New_old  furnished  \\\n",
       "count       1500         1500  1500  1500.0    1500       1498   \n",
       "unique         5           18    13    43.0       1         16   \n",
       "top         sqft        Ready   Jan     1.0     New  furnished   \n",
       "freq        1492         1101  1121   270.0    1500       1334   \n",
       "mean         NaN          NaN   NaN     NaN     NaN        NaN   \n",
       "std          NaN          NaN   NaN     NaN     NaN        NaN   \n",
       "min          NaN          NaN   NaN     NaN     NaN        NaN   \n",
       "25%          NaN          NaN   NaN     NaN     NaN        NaN   \n",
       "50%          NaN          NaN   NaN     NaN     NaN        NaN   \n",
       "75%          NaN          NaN   NaN     NaN     NaN        NaN   \n",
       "max          NaN          NaN   NaN     NaN     NaN        NaN   \n",
       "\n",
       "                                     details  \n",
       "count                                   1465  \n",
       "unique                                   530  \n",
       "top     floors Resale Semi-Furnished North -  \n",
       "freq                                      41  \n",
       "mean                                     NaN  \n",
       "std                                      NaN  \n",
       "min                                      NaN  \n",
       "25%                                      NaN  \n",
       "50%                                      NaN  \n",
       "75%                                      NaN  \n",
       "max                                      NaN  "
      ]
     },
     "execution_count": 11,
     "metadata": {},
     "output_type": "execute_result"
    }
   ],
   "source": [
    "df.describe(include=\"all\")"
   ]
  },
  {
   "cell_type": "code",
   "execution_count": 12,
   "metadata": {},
   "outputs": [
    {
     "data": {
      "text/plain": [
       "(1500, 13)"
      ]
     },
     "execution_count": 12,
     "metadata": {},
     "output_type": "execute_result"
    }
   ],
   "source": [
    "df.shape"
   ]
  },
  {
   "cell_type": "code",
   "execution_count": 13,
   "metadata": {},
   "outputs": [
    {
     "data": {
      "image/png": "[encoded data removed]",
      "text/plain": [
       "<Figure size 720x432 with 6 Axes>"
      ]
     },
     "metadata": {
      "needs_background": "light"
     },
     "output_type": "display_data"
    }
   ],
   "source": [
    "df.hist(layout = (2, 3), figsize = (10, 6))\n",
    "plt.show()"
   ]
  },
  {
   "cell_type": "code",
   "execution_count": 14,
   "metadata": {},
   "outputs": [
    {
     "data": {
      "image/png": "[encoded data removed]",
      "text/plain": [
       "<Figure size 432x288 with 1 Axes>"
      ]
     },
     "metadata": {
      "needs_background": "light"
     },
     "output_type": "display_data"
    }
   ],
   "source": [
    "sns.countplot(x = df.unit)\n",
    "plt.show()"
   ]
  },
  {
   "cell_type": "code",
   "execution_count": 15,
   "metadata": {},
   "outputs": [
    {
     "data": {
      "image/png": "[encoded data removed]",
      "text/plain": [
       "<Figure size 432x288 with 1 Axes>"
      ]
     },
     "metadata": {
      "needs_background": "light"
     },
     "output_type": "display_data"
    }
   ],
   "source": [
    "sns.countplot(x = df[\"No_of_rooms\"])\n",
    "plt.show()"
   ]
  },
  {
   "cell_type": "code",
   "execution_count": 16,
   "metadata": {},
   "outputs": [
    {
     "data": {
      "image/png": "[encoded data removed]",
      "text/plain": [
       "<Figure size 432x288 with 1 Axes>"
      ]
     },
     "metadata": {
      "needs_background": "light"
     },
     "output_type": "display_data"
    }
   ],
   "source": [
    "sns.countplot(x = df[\"bhk\"])\n",
    "plt.show()"
   ]
  },
  {
   "cell_type": "code",
   "execution_count": 17,
   "metadata": {},
   "outputs": [
    {
     "data": {
      "image/png": "[encoded data removed]",
      "text/plain": [
       "<Figure size 432x288 with 1 Axes>"
      ]
     },
     "metadata": {
      "needs_background": "light"
     },
     "output_type": "display_data"
    }
   ],
   "source": [
    "sns.countplot(x = df[\"type\"])\n",
    "plt.show()"
   ]
  },
  {
   "cell_type": "code",
   "execution_count": 18,
   "metadata": {},
   "outputs": [
    {
     "data": {
      "image/png": "[encoded data removed]",
      "text/plain": [
       "<Figure size 432x288 with 1 Axes>"
      ]
     },
     "metadata": {
      "needs_background": "light"
     },
     "output_type": "display_data"
    }
   ],
   "source": [
    "sns.countplot(x = df[\"type_of_move\"])\n",
    "plt.show()"
   ]
  },
  {
   "cell_type": "code",
   "execution_count": 19,
   "metadata": {},
   "outputs": [
    {
     "data": {
      "image/png": "[encoded data removed]",
      "text/plain": [
       "<Figure size 432x288 with 1 Axes>"
      ]
     },
     "metadata": {
      "needs_background": "light"
     },
     "output_type": "display_data"
    }
   ],
   "source": [
    "sns.countplot(x = df[\"New_old\"])\n",
    "plt.show()"
   ]
  },
  {
   "cell_type": "code",
   "execution_count": 20,
   "metadata": {},
   "outputs": [
    {
     "data": {
      "image/png": "[encoded data removed]",
      "text/plain": [
       "<Figure size 432x288 with 1 Axes>"
      ]
     },
     "metadata": {
      "needs_background": "light"
     },
     "output_type": "display_data"
    }
   ],
   "source": [
    "sns.countplot(x = df[\"furnished\"])\n",
    "plt.show()"
   ]
  },
  {
   "cell_type": "markdown",
   "metadata": {},
   "source": [
    "# EDA"
   ]
  },
  {
   "cell_type": "code",
   "execution_count": 21,
   "metadata": {},
   "outputs": [],
   "source": [
    "df1=df.drop(\"details\",axis=1)"
   ]
  },
  {
   "cell_type": "code",
   "execution_count": 22,
   "metadata": {},
   "outputs": [
    {
     "data": {
      "text/html": [
       "<div>\n",
       "<style scoped>\n",
       "    .dataframe tbody tr th:only-of-type {\n",
       "        vertical-align: middle;\n",
       "    }\n",
       "\n",
       "    .dataframe tbody tr th {\n",
       "        vertical-align: top;\n",
       "    }\n",
       "\n",
       "    .dataframe thead th {\n",
       "        text-align: right;\n",
       "    }\n",
       "</style>\n",
       "<table border=\"1\" class=\"dataframe\">\n",
       "  <thead>\n",
       "    <tr style=\"text-align: right;\">\n",
       "      <th></th>\n",
       "      <th>price</th>\n",
       "      <th>unit</th>\n",
       "      <th>No_of_rooms</th>\n",
       "      <th>bhk</th>\n",
       "      <th>type</th>\n",
       "      <th>area</th>\n",
       "      <th>area_unit</th>\n",
       "      <th>type_of_move</th>\n",
       "      <th>month</th>\n",
       "      <th>day</th>\n",
       "      <th>New_old</th>\n",
       "      <th>furnished</th>\n",
       "    </tr>\n",
       "  </thead>\n",
       "  <tbody>\n",
       "    <tr>\n",
       "      <th>0</th>\n",
       "      <td>1.57</td>\n",
       "      <td>Cr</td>\n",
       "      <td>1</td>\n",
       "      <td>BHK</td>\n",
       "      <td>Apartment</td>\n",
       "      <td>460</td>\n",
       "      <td>sqft</td>\n",
       "      <td>Ready</td>\n",
       "      <td>Jan</td>\n",
       "      <td>5</td>\n",
       "      <td>New</td>\n",
       "      <td>Unfurnished</td>\n",
       "    </tr>\n",
       "    <tr>\n",
       "      <th>1</th>\n",
       "      <td>1.85</td>\n",
       "      <td>Cr</td>\n",
       "      <td>2</td>\n",
       "      <td>BHK</td>\n",
       "      <td>Apartment</td>\n",
       "      <td>670</td>\n",
       "      <td>sqft</td>\n",
       "      <td>Ready</td>\n",
       "      <td>Jan</td>\n",
       "      <td>1</td>\n",
       "      <td>New</td>\n",
       "      <td>Semi-Furnished</td>\n",
       "    </tr>\n",
       "    <tr>\n",
       "      <th>2</th>\n",
       "      <td>37.10</td>\n",
       "      <td>Lac</td>\n",
       "      <td>1</td>\n",
       "      <td>BHK</td>\n",
       "      <td>Apartment</td>\n",
       "      <td>410</td>\n",
       "      <td>sqft</td>\n",
       "      <td>Ready</td>\n",
       "      <td>Jan</td>\n",
       "      <td>1</td>\n",
       "      <td>New</td>\n",
       "      <td>Unfurnished</td>\n",
       "    </tr>\n",
       "    <tr>\n",
       "      <th>3</th>\n",
       "      <td>1.15</td>\n",
       "      <td>Cr</td>\n",
       "      <td>1</td>\n",
       "      <td>BHK</td>\n",
       "      <td>Apartment</td>\n",
       "      <td>488</td>\n",
       "      <td>sqft</td>\n",
       "      <td>Possession</td>\n",
       "      <td>Apr</td>\n",
       "      <td>20</td>\n",
       "      <td>New</td>\n",
       "      <td>Unfurnished</td>\n",
       "    </tr>\n",
       "    <tr>\n",
       "      <th>4</th>\n",
       "      <td>39.30</td>\n",
       "      <td>Lac</td>\n",
       "      <td>1</td>\n",
       "      <td>BHK</td>\n",
       "      <td>Apartment</td>\n",
       "      <td>439</td>\n",
       "      <td>sqft</td>\n",
       "      <td>Possession</td>\n",
       "      <td>Jun</td>\n",
       "      <td>21</td>\n",
       "      <td>New</td>\n",
       "      <td>Unfurnished</td>\n",
       "    </tr>\n",
       "  </tbody>\n",
       "</table>\n",
       "</div>"
      ],
      "text/plain": [
       "   price unit No_of_rooms  bhk       type  area area_unit type_of_move month  \\\n",
       "0   1.57   Cr           1  BHK  Apartment   460      sqft        Ready   Jan   \n",
       "1   1.85   Cr           2  BHK  Apartment   670      sqft        Ready   Jan   \n",
       "2  37.10  Lac           1  BHK  Apartment   410      sqft        Ready   Jan   \n",
       "3   1.15   Cr           1  BHK  Apartment   488      sqft   Possession   Apr   \n",
       "4  39.30  Lac           1  BHK  Apartment   439      sqft   Possession   Jun   \n",
       "\n",
       "  day New_old       furnished  \n",
       "0   5     New     Unfurnished  \n",
       "1   1     New  Semi-Furnished  \n",
       "2   1     New     Unfurnished  \n",
       "3  20     New     Unfurnished  \n",
       "4  21     New     Unfurnished  "
      ]
     },
     "execution_count": 22,
     "metadata": {},
     "output_type": "execute_result"
    }
   ],
   "source": [
    "df1.head()"
   ]
  },
  {
   "cell_type": "code",
   "execution_count": 23,
   "metadata": {},
   "outputs": [],
   "source": [
    "df2=df1"
   ]
  },
  {
   "cell_type": "code",
   "execution_count": 24,
   "metadata": {},
   "outputs": [
    {
     "data": {
      "text/html": [
       "<div>\n",
       "<style scoped>\n",
       "    .dataframe tbody tr th:only-of-type {\n",
       "        vertical-align: middle;\n",
       "    }\n",
       "\n",
       "    .dataframe tbody tr th {\n",
       "        vertical-align: top;\n",
       "    }\n",
       "\n",
       "    .dataframe thead th {\n",
       "        text-align: right;\n",
       "    }\n",
       "</style>\n",
       "<table border=\"1\" class=\"dataframe\">\n",
       "  <thead>\n",
       "    <tr style=\"text-align: right;\">\n",
       "      <th></th>\n",
       "      <th>price</th>\n",
       "      <th>unit</th>\n",
       "      <th>No_of_rooms</th>\n",
       "      <th>bhk</th>\n",
       "      <th>type</th>\n",
       "      <th>area</th>\n",
       "      <th>area_unit</th>\n",
       "      <th>type_of_move</th>\n",
       "      <th>month</th>\n",
       "      <th>day</th>\n",
       "      <th>New_old</th>\n",
       "      <th>furnished</th>\n",
       "    </tr>\n",
       "  </thead>\n",
       "  <tbody>\n",
       "    <tr>\n",
       "      <th>0</th>\n",
       "      <td>1.57</td>\n",
       "      <td>Cr</td>\n",
       "      <td>1</td>\n",
       "      <td>BHK</td>\n",
       "      <td>Apartment</td>\n",
       "      <td>460</td>\n",
       "      <td>sqft</td>\n",
       "      <td>Ready</td>\n",
       "      <td>Jan</td>\n",
       "      <td>5</td>\n",
       "      <td>New</td>\n",
       "      <td>Unfurnished</td>\n",
       "    </tr>\n",
       "    <tr>\n",
       "      <th>1</th>\n",
       "      <td>1.85</td>\n",
       "      <td>Cr</td>\n",
       "      <td>2</td>\n",
       "      <td>BHK</td>\n",
       "      <td>Apartment</td>\n",
       "      <td>670</td>\n",
       "      <td>sqft</td>\n",
       "      <td>Ready</td>\n",
       "      <td>Jan</td>\n",
       "      <td>1</td>\n",
       "      <td>New</td>\n",
       "      <td>Semi-Furnished</td>\n",
       "    </tr>\n",
       "    <tr>\n",
       "      <th>2</th>\n",
       "      <td>37.10</td>\n",
       "      <td>Lac</td>\n",
       "      <td>1</td>\n",
       "      <td>BHK</td>\n",
       "      <td>Apartment</td>\n",
       "      <td>410</td>\n",
       "      <td>sqft</td>\n",
       "      <td>Ready</td>\n",
       "      <td>Jan</td>\n",
       "      <td>1</td>\n",
       "      <td>New</td>\n",
       "      <td>Unfurnished</td>\n",
       "    </tr>\n",
       "    <tr>\n",
       "      <th>3</th>\n",
       "      <td>1.15</td>\n",
       "      <td>Cr</td>\n",
       "      <td>1</td>\n",
       "      <td>BHK</td>\n",
       "      <td>Apartment</td>\n",
       "      <td>488</td>\n",
       "      <td>sqft</td>\n",
       "      <td>Possession</td>\n",
       "      <td>Apr</td>\n",
       "      <td>20</td>\n",
       "      <td>New</td>\n",
       "      <td>Unfurnished</td>\n",
       "    </tr>\n",
       "    <tr>\n",
       "      <th>4</th>\n",
       "      <td>39.30</td>\n",
       "      <td>Lac</td>\n",
       "      <td>1</td>\n",
       "      <td>BHK</td>\n",
       "      <td>Apartment</td>\n",
       "      <td>439</td>\n",
       "      <td>sqft</td>\n",
       "      <td>Possession</td>\n",
       "      <td>Jun</td>\n",
       "      <td>21</td>\n",
       "      <td>New</td>\n",
       "      <td>Unfurnished</td>\n",
       "    </tr>\n",
       "  </tbody>\n",
       "</table>\n",
       "</div>"
      ],
      "text/plain": [
       "   price unit No_of_rooms  bhk       type  area area_unit type_of_move month  \\\n",
       "0   1.57   Cr           1  BHK  Apartment   460      sqft        Ready   Jan   \n",
       "1   1.85   Cr           2  BHK  Apartment   670      sqft        Ready   Jan   \n",
       "2  37.10  Lac           1  BHK  Apartment   410      sqft        Ready   Jan   \n",
       "3   1.15   Cr           1  BHK  Apartment   488      sqft   Possession   Apr   \n",
       "4  39.30  Lac           1  BHK  Apartment   439      sqft   Possession   Jun   \n",
       "\n",
       "  day New_old       furnished  \n",
       "0   5     New     Unfurnished  \n",
       "1   1     New  Semi-Furnished  \n",
       "2   1     New     Unfurnished  \n",
       "3  20     New     Unfurnished  \n",
       "4  21     New     Unfurnished  "
      ]
     },
     "execution_count": 24,
     "metadata": {},
     "output_type": "execute_result"
    }
   ],
   "source": [
    "df2.head()"
   ]
  },
  {
   "cell_type": "code",
   "execution_count": 25,
   "metadata": {},
   "outputs": [
    {
     "name": "stderr",
     "output_type": "stream",
     "text": [
      "C:\\Users\\Lenovo\\Anaconda3\\lib\\site-packages\\ipykernel_launcher.py:7: SettingWithCopyWarning: \n",
      "A value is trying to be set on a copy of a slice from a DataFrame\n",
      "\n",
      "See the caveats in the documentation: http://pandas.pydata.org/pandas-docs/stable/indexing.html#indexing-view-versus-copy\n",
      "  import sys\n",
      "C:\\Users\\Lenovo\\Anaconda3\\lib\\site-packages\\ipykernel_launcher.py:4: SettingWithCopyWarning: \n",
      "A value is trying to be set on a copy of a slice from a DataFrame\n",
      "\n",
      "See the caveats in the documentation: http://pandas.pydata.org/pandas-docs/stable/indexing.html#indexing-view-versus-copy\n",
      "  after removing the cwd from sys.path.\n",
      "C:\\Users\\Lenovo\\Anaconda3\\lib\\site-packages\\ipykernel_launcher.py:5: SettingWithCopyWarning: \n",
      "A value is trying to be set on a copy of a slice from a DataFrame\n",
      "\n",
      "See the caveats in the documentation: http://pandas.pydata.org/pandas-docs/stable/indexing.html#indexing-view-versus-copy\n",
      "  \"\"\"\n"
     ]
    }
   ],
   "source": [
    "#converting the unit into one unit\n",
    "for i in range(len(df2)):\n",
    "    if df2.unit[i]==\"Lac\":\n",
    "        df2.price[i]=df2.price[i]/100\n",
    "        df2.unit[i]=\"Cr\"\n",
    "    else:\n",
    "        df2.price[i]=df2.price[i]"
   ]
  },
  {
   "cell_type": "code",
   "execution_count": 26,
   "metadata": {},
   "outputs": [
    {
     "data": {
      "text/html": [
       "<div>\n",
       "<style scoped>\n",
       "    .dataframe tbody tr th:only-of-type {\n",
       "        vertical-align: middle;\n",
       "    }\n",
       "\n",
       "    .dataframe tbody tr th {\n",
       "        vertical-align: top;\n",
       "    }\n",
       "\n",
       "    .dataframe thead th {\n",
       "        text-align: right;\n",
       "    }\n",
       "</style>\n",
       "<table border=\"1\" class=\"dataframe\">\n",
       "  <thead>\n",
       "    <tr style=\"text-align: right;\">\n",
       "      <th></th>\n",
       "      <th>price</th>\n",
       "      <th>unit</th>\n",
       "      <th>No_of_rooms</th>\n",
       "      <th>bhk</th>\n",
       "      <th>type</th>\n",
       "      <th>area</th>\n",
       "      <th>area_unit</th>\n",
       "      <th>type_of_move</th>\n",
       "      <th>month</th>\n",
       "      <th>day</th>\n",
       "      <th>New_old</th>\n",
       "      <th>furnished</th>\n",
       "    </tr>\n",
       "  </thead>\n",
       "  <tbody>\n",
       "    <tr>\n",
       "      <th>0</th>\n",
       "      <td>1.570</td>\n",
       "      <td>Cr</td>\n",
       "      <td>1</td>\n",
       "      <td>BHK</td>\n",
       "      <td>Apartment</td>\n",
       "      <td>460</td>\n",
       "      <td>sqft</td>\n",
       "      <td>Ready</td>\n",
       "      <td>Jan</td>\n",
       "      <td>5</td>\n",
       "      <td>New</td>\n",
       "      <td>Unfurnished</td>\n",
       "    </tr>\n",
       "    <tr>\n",
       "      <th>1</th>\n",
       "      <td>1.850</td>\n",
       "      <td>Cr</td>\n",
       "      <td>2</td>\n",
       "      <td>BHK</td>\n",
       "      <td>Apartment</td>\n",
       "      <td>670</td>\n",
       "      <td>sqft</td>\n",
       "      <td>Ready</td>\n",
       "      <td>Jan</td>\n",
       "      <td>1</td>\n",
       "      <td>New</td>\n",
       "      <td>Semi-Furnished</td>\n",
       "    </tr>\n",
       "    <tr>\n",
       "      <th>2</th>\n",
       "      <td>0.371</td>\n",
       "      <td>Cr</td>\n",
       "      <td>1</td>\n",
       "      <td>BHK</td>\n",
       "      <td>Apartment</td>\n",
       "      <td>410</td>\n",
       "      <td>sqft</td>\n",
       "      <td>Ready</td>\n",
       "      <td>Jan</td>\n",
       "      <td>1</td>\n",
       "      <td>New</td>\n",
       "      <td>Unfurnished</td>\n",
       "    </tr>\n",
       "    <tr>\n",
       "      <th>3</th>\n",
       "      <td>1.150</td>\n",
       "      <td>Cr</td>\n",
       "      <td>1</td>\n",
       "      <td>BHK</td>\n",
       "      <td>Apartment</td>\n",
       "      <td>488</td>\n",
       "      <td>sqft</td>\n",
       "      <td>Possession</td>\n",
       "      <td>Apr</td>\n",
       "      <td>20</td>\n",
       "      <td>New</td>\n",
       "      <td>Unfurnished</td>\n",
       "    </tr>\n",
       "    <tr>\n",
       "      <th>4</th>\n",
       "      <td>0.393</td>\n",
       "      <td>Cr</td>\n",
       "      <td>1</td>\n",
       "      <td>BHK</td>\n",
       "      <td>Apartment</td>\n",
       "      <td>439</td>\n",
       "      <td>sqft</td>\n",
       "      <td>Possession</td>\n",
       "      <td>Jun</td>\n",
       "      <td>21</td>\n",
       "      <td>New</td>\n",
       "      <td>Unfurnished</td>\n",
       "    </tr>\n",
       "  </tbody>\n",
       "</table>\n",
       "</div>"
      ],
      "text/plain": [
       "   price unit No_of_rooms  bhk       type  area area_unit type_of_move month  \\\n",
       "0  1.570   Cr           1  BHK  Apartment   460      sqft        Ready   Jan   \n",
       "1  1.850   Cr           2  BHK  Apartment   670      sqft        Ready   Jan   \n",
       "2  0.371   Cr           1  BHK  Apartment   410      sqft        Ready   Jan   \n",
       "3  1.150   Cr           1  BHK  Apartment   488      sqft   Possession   Apr   \n",
       "4  0.393   Cr           1  BHK  Apartment   439      sqft   Possession   Jun   \n",
       "\n",
       "  day New_old       furnished  \n",
       "0   5     New     Unfurnished  \n",
       "1   1     New  Semi-Furnished  \n",
       "2   1     New     Unfurnished  \n",
       "3  20     New     Unfurnished  \n",
       "4  21     New     Unfurnished  "
      ]
     },
     "execution_count": 26,
     "metadata": {},
     "output_type": "execute_result"
    }
   ],
   "source": [
    "df2.head()"
   ]
  },
  {
   "cell_type": "code",
   "execution_count": 27,
   "metadata": {},
   "outputs": [
    {
     "data": {
      "text/plain": [
       "array(['Cr'], dtype=object)"
      ]
     },
     "execution_count": 27,
     "metadata": {},
     "output_type": "execute_result"
    }
   ],
   "source": [
    "df2.unit.unique()"
   ]
  },
  {
   "cell_type": "code",
   "execution_count": null,
   "metadata": {},
   "outputs": [],
   "source": []
  },
  {
   "cell_type": "code",
   "execution_count": 28,
   "metadata": {},
   "outputs": [
    {
     "name": "stderr",
     "output_type": "stream",
     "text": [
      "C:\\Users\\Lenovo\\Anaconda3\\lib\\site-packages\\ipykernel_launcher.py:5: SettingWithCopyWarning: \n",
      "A value is trying to be set on a copy of a slice from a DataFrame\n",
      "\n",
      "See the caveats in the documentation: http://pandas.pydata.org/pandas-docs/stable/indexing.html#indexing-view-versus-copy\n",
      "  \"\"\"\n",
      "C:\\Users\\Lenovo\\Anaconda3\\lib\\site-packages\\ipykernel_launcher.py:6: SettingWithCopyWarning: \n",
      "A value is trying to be set on a copy of a slice from a DataFrame\n",
      "\n",
      "See the caveats in the documentation: http://pandas.pydata.org/pandas-docs/stable/indexing.html#indexing-view-versus-copy\n",
      "  \n",
      "C:\\Users\\Lenovo\\Anaconda3\\lib\\site-packages\\ipykernel_launcher.py:11: SettingWithCopyWarning: \n",
      "A value is trying to be set on a copy of a slice from a DataFrame\n",
      "\n",
      "See the caveats in the documentation: http://pandas.pydata.org/pandas-docs/stable/indexing.html#indexing-view-versus-copy\n",
      "  # This is added back by InteractiveShellApp.init_path()\n",
      "C:\\Users\\Lenovo\\Anaconda3\\lib\\site-packages\\ipykernel_launcher.py:8: SettingWithCopyWarning: \n",
      "A value is trying to be set on a copy of a slice from a DataFrame\n",
      "\n",
      "See the caveats in the documentation: http://pandas.pydata.org/pandas-docs/stable/indexing.html#indexing-view-versus-copy\n",
      "  \n",
      "C:\\Users\\Lenovo\\Anaconda3\\lib\\site-packages\\ipykernel_launcher.py:9: SettingWithCopyWarning: \n",
      "A value is trying to be set on a copy of a slice from a DataFrame\n",
      "\n",
      "See the caveats in the documentation: http://pandas.pydata.org/pandas-docs/stable/indexing.html#indexing-view-versus-copy\n",
      "  if __name__ == '__main__':\n"
     ]
    }
   ],
   "source": [
    "#converting land unit into one unit\n",
    "#ibigah=17452.0069808sqft 1sqm=10.7639sqft\n",
    "for i in range(len(df2)):\n",
    "    if df2.area_unit[i]==\"qm\" or df2.area_unit[i]==\"sqm\":\n",
    "        df2.area[i]=df2.area[i]*10.7639\n",
    "        df2.area_unit[i]=\"sqft\"\n",
    "    elif df2.area_unit[i]==\"bigha\":\n",
    "        df2.area[i]=df2.area[i]*17452.0069808\n",
    "        df2.area_unit[i]=\"sqft\"\n",
    "    elif df2.area_unit[i]==\"qft\":\n",
    "        df2.area_unit[i]=\"sqft\"\n",
    "        "
   ]
  },
  {
   "cell_type": "code",
   "execution_count": 29,
   "metadata": {},
   "outputs": [
    {
     "data": {
      "text/html": [
       "<div>\n",
       "<style scoped>\n",
       "    .dataframe tbody tr th:only-of-type {\n",
       "        vertical-align: middle;\n",
       "    }\n",
       "\n",
       "    .dataframe tbody tr th {\n",
       "        vertical-align: top;\n",
       "    }\n",
       "\n",
       "    .dataframe thead th {\n",
       "        text-align: right;\n",
       "    }\n",
       "</style>\n",
       "<table border=\"1\" class=\"dataframe\">\n",
       "  <thead>\n",
       "    <tr style=\"text-align: right;\">\n",
       "      <th></th>\n",
       "      <th>price</th>\n",
       "      <th>unit</th>\n",
       "      <th>No_of_rooms</th>\n",
       "      <th>bhk</th>\n",
       "      <th>type</th>\n",
       "      <th>area</th>\n",
       "      <th>area_unit</th>\n",
       "      <th>type_of_move</th>\n",
       "      <th>month</th>\n",
       "      <th>day</th>\n",
       "      <th>New_old</th>\n",
       "      <th>furnished</th>\n",
       "    </tr>\n",
       "  </thead>\n",
       "  <tbody>\n",
       "    <tr>\n",
       "      <th>0</th>\n",
       "      <td>1.570</td>\n",
       "      <td>Cr</td>\n",
       "      <td>1</td>\n",
       "      <td>BHK</td>\n",
       "      <td>Apartment</td>\n",
       "      <td>460</td>\n",
       "      <td>sqft</td>\n",
       "      <td>Ready</td>\n",
       "      <td>Jan</td>\n",
       "      <td>5</td>\n",
       "      <td>New</td>\n",
       "      <td>Unfurnished</td>\n",
       "    </tr>\n",
       "    <tr>\n",
       "      <th>1</th>\n",
       "      <td>1.850</td>\n",
       "      <td>Cr</td>\n",
       "      <td>2</td>\n",
       "      <td>BHK</td>\n",
       "      <td>Apartment</td>\n",
       "      <td>670</td>\n",
       "      <td>sqft</td>\n",
       "      <td>Ready</td>\n",
       "      <td>Jan</td>\n",
       "      <td>1</td>\n",
       "      <td>New</td>\n",
       "      <td>Semi-Furnished</td>\n",
       "    </tr>\n",
       "    <tr>\n",
       "      <th>2</th>\n",
       "      <td>0.371</td>\n",
       "      <td>Cr</td>\n",
       "      <td>1</td>\n",
       "      <td>BHK</td>\n",
       "      <td>Apartment</td>\n",
       "      <td>410</td>\n",
       "      <td>sqft</td>\n",
       "      <td>Ready</td>\n",
       "      <td>Jan</td>\n",
       "      <td>1</td>\n",
       "      <td>New</td>\n",
       "      <td>Unfurnished</td>\n",
       "    </tr>\n",
       "    <tr>\n",
       "      <th>3</th>\n",
       "      <td>1.150</td>\n",
       "      <td>Cr</td>\n",
       "      <td>1</td>\n",
       "      <td>BHK</td>\n",
       "      <td>Apartment</td>\n",
       "      <td>488</td>\n",
       "      <td>sqft</td>\n",
       "      <td>Possession</td>\n",
       "      <td>Apr</td>\n",
       "      <td>20</td>\n",
       "      <td>New</td>\n",
       "      <td>Unfurnished</td>\n",
       "    </tr>\n",
       "    <tr>\n",
       "      <th>4</th>\n",
       "      <td>0.393</td>\n",
       "      <td>Cr</td>\n",
       "      <td>1</td>\n",
       "      <td>BHK</td>\n",
       "      <td>Apartment</td>\n",
       "      <td>439</td>\n",
       "      <td>sqft</td>\n",
       "      <td>Possession</td>\n",
       "      <td>Jun</td>\n",
       "      <td>21</td>\n",
       "      <td>New</td>\n",
       "      <td>Unfurnished</td>\n",
       "    </tr>\n",
       "  </tbody>\n",
       "</table>\n",
       "</div>"
      ],
      "text/plain": [
       "   price unit No_of_rooms  bhk       type  area area_unit type_of_move month  \\\n",
       "0  1.570   Cr           1  BHK  Apartment   460      sqft        Ready   Jan   \n",
       "1  1.850   Cr           2  BHK  Apartment   670      sqft        Ready   Jan   \n",
       "2  0.371   Cr           1  BHK  Apartment   410      sqft        Ready   Jan   \n",
       "3  1.150   Cr           1  BHK  Apartment   488      sqft   Possession   Apr   \n",
       "4  0.393   Cr           1  BHK  Apartment   439      sqft   Possession   Jun   \n",
       "\n",
       "  day New_old       furnished  \n",
       "0   5     New     Unfurnished  \n",
       "1   1     New  Semi-Furnished  \n",
       "2   1     New     Unfurnished  \n",
       "3  20     New     Unfurnished  \n",
       "4  21     New     Unfurnished  "
      ]
     },
     "execution_count": 29,
     "metadata": {},
     "output_type": "execute_result"
    }
   ],
   "source": [
    "df2.head()"
   ]
  },
  {
   "cell_type": "code",
   "execution_count": 30,
   "metadata": {},
   "outputs": [
    {
     "data": {
      "text/plain": [
       "array(['sqft'], dtype=object)"
      ]
     },
     "execution_count": 30,
     "metadata": {},
     "output_type": "execute_result"
    }
   ],
   "source": [
    "df2.area_unit.unique()"
   ]
  },
  {
   "cell_type": "code",
   "execution_count": 31,
   "metadata": {},
   "outputs": [
    {
     "data": {
      "text/html": [
       "<div>\n",
       "<style scoped>\n",
       "    .dataframe tbody tr th:only-of-type {\n",
       "        vertical-align: middle;\n",
       "    }\n",
       "\n",
       "    .dataframe tbody tr th {\n",
       "        vertical-align: top;\n",
       "    }\n",
       "\n",
       "    .dataframe thead th {\n",
       "        text-align: right;\n",
       "    }\n",
       "</style>\n",
       "<table border=\"1\" class=\"dataframe\">\n",
       "  <thead>\n",
       "    <tr style=\"text-align: right;\">\n",
       "      <th></th>\n",
       "      <th>price</th>\n",
       "      <th>area</th>\n",
       "    </tr>\n",
       "    <tr>\n",
       "      <th>No_of_rooms</th>\n",
       "      <th></th>\n",
       "      <th></th>\n",
       "    </tr>\n",
       "  </thead>\n",
       "  <tbody>\n",
       "    <tr>\n",
       "      <th>1</th>\n",
       "      <td>0.909973</td>\n",
       "      <td>15572.171429</td>\n",
       "    </tr>\n",
       "    <tr>\n",
       "      <th>2</th>\n",
       "      <td>1.865711</td>\n",
       "      <td>734.639626</td>\n",
       "    </tr>\n",
       "    <tr>\n",
       "      <th>3</th>\n",
       "      <td>3.665147</td>\n",
       "      <td>1117.213235</td>\n",
       "    </tr>\n",
       "    <tr>\n",
       "      <th>4</th>\n",
       "      <td>8.542857</td>\n",
       "      <td>2057.047619</td>\n",
       "    </tr>\n",
       "    <tr>\n",
       "      <th>5</th>\n",
       "      <td>12.295833</td>\n",
       "      <td>3078.250000</td>\n",
       "    </tr>\n",
       "    <tr>\n",
       "      <th>6</th>\n",
       "      <td>7.175000</td>\n",
       "      <td>2297.500000</td>\n",
       "    </tr>\n",
       "    <tr>\n",
       "      <th>Apartment</th>\n",
       "      <td>4.105000</td>\n",
       "      <td>850.000000</td>\n",
       "    </tr>\n",
       "    <tr>\n",
       "      <th>House</th>\n",
       "      <td>0.439500</td>\n",
       "      <td>420.000000</td>\n",
       "    </tr>\n",
       "    <tr>\n",
       "      <th>Studio</th>\n",
       "      <td>0.686429</td>\n",
       "      <td>290.714286</td>\n",
       "    </tr>\n",
       "  </tbody>\n",
       "</table>\n",
       "</div>"
      ],
      "text/plain": [
       "                 price          area\n",
       "No_of_rooms                         \n",
       "1             0.909973  15572.171429\n",
       "2             1.865711    734.639626\n",
       "3             3.665147   1117.213235\n",
       "4             8.542857   2057.047619\n",
       "5            12.295833   3078.250000\n",
       "6             7.175000   2297.500000\n",
       "Apartment     4.105000    850.000000\n",
       "House         0.439500    420.000000\n",
       "Studio        0.686429    290.714286"
      ]
     },
     "execution_count": 31,
     "metadata": {},
     "output_type": "execute_result"
    }
   ],
   "source": [
    "group_price=df2.groupby(\"No_of_rooms\").mean()\n",
    "group_price"
   ]
  },
  {
   "cell_type": "code",
   "execution_count": 32,
   "metadata": {},
   "outputs": [
    {
     "name": "stderr",
     "output_type": "stream",
     "text": [
      "C:\\Users\\Lenovo\\Anaconda3\\lib\\site-packages\\ipykernel_launcher.py:7: SettingWithCopyWarning: \n",
      "A value is trying to be set on a copy of a slice from a DataFrame\n",
      "\n",
      "See the caveats in the documentation: http://pandas.pydata.org/pandas-docs/stable/indexing.html#indexing-view-versus-copy\n",
      "  import sys\n",
      "C:\\Users\\Lenovo\\Anaconda3\\lib\\site-packages\\ipykernel_launcher.py:9: SettingWithCopyWarning: \n",
      "A value is trying to be set on a copy of a slice from a DataFrame\n",
      "\n",
      "See the caveats in the documentation: http://pandas.pydata.org/pandas-docs/stable/indexing.html#indexing-view-versus-copy\n",
      "  if __name__ == '__main__':\n",
      "C:\\Users\\Lenovo\\Anaconda3\\lib\\site-packages\\ipykernel_launcher.py:5: SettingWithCopyWarning: \n",
      "A value is trying to be set on a copy of a slice from a DataFrame\n",
      "\n",
      "See the caveats in the documentation: http://pandas.pydata.org/pandas-docs/stable/indexing.html#indexing-view-versus-copy\n",
      "  \"\"\"\n",
      "C:\\Users\\Lenovo\\Anaconda3\\lib\\site-packages\\ipykernel_launcher.py:11: SettingWithCopyWarning: \n",
      "A value is trying to be set on a copy of a slice from a DataFrame\n",
      "\n",
      "See the caveats in the documentation: http://pandas.pydata.org/pandas-docs/stable/indexing.html#indexing-view-versus-copy\n",
      "  # This is added back by InteractiveShellApp.init_path()\n"
     ]
    }
   ],
   "source": [
    "#by knowledge of scraping and studies made on the data converting the type of furnish\n",
    "\n",
    "for i in range(len(df2)):\n",
    "    if df2.furnished[i]==\"furnished\" or df2.area_unit[i]==\"Furnished\":\n",
    "        df2.furnished[i]=\"Furnished\"        \n",
    "    elif df2.furnished[i]=='Unfurnished':\n",
    "        df2.furnished[i]='Unfurnished'\n",
    "    elif df2.furnished[i]=='Semi-Furnished':\n",
    "        df2.furnished[i]='Semi-Furnished'\n",
    "    else:\n",
    "        df2.furnished[i]=\"Furnished\"\n",
    "        \n",
    "    "
   ]
  },
  {
   "cell_type": "code",
   "execution_count": 33,
   "metadata": {},
   "outputs": [
    {
     "data": {
      "text/plain": [
       "array(['Unfurnished', 'Semi-Furnished', 'Furnished'], dtype=object)"
      ]
     },
     "execution_count": 33,
     "metadata": {},
     "output_type": "execute_result"
    }
   ],
   "source": [
    "df2.furnished.unique()"
   ]
  },
  {
   "cell_type": "code",
   "execution_count": 34,
   "metadata": {},
   "outputs": [
    {
     "data": {
      "text/plain": [
       "price            0\n",
       "unit             0\n",
       "No_of_rooms      0\n",
       "bhk              4\n",
       "type            18\n",
       "area             0\n",
       "area_unit        0\n",
       "type_of_move     0\n",
       "month            0\n",
       "day              0\n",
       "New_old          0\n",
       "furnished        0\n",
       "dtype: int64"
      ]
     },
     "execution_count": 34,
     "metadata": {},
     "output_type": "execute_result"
    }
   ],
   "source": [
    "df2.isnull().sum()"
   ]
  },
  {
   "cell_type": "code",
   "execution_count": 35,
   "metadata": {},
   "outputs": [],
   "source": [
    "df2.fillna(method='ffill',inplace=True) #after analysing the original data values filled "
   ]
  },
  {
   "cell_type": "code",
   "execution_count": 36,
   "metadata": {},
   "outputs": [
    {
     "data": {
      "text/plain": [
       "price           0\n",
       "unit            0\n",
       "No_of_rooms     0\n",
       "bhk             0\n",
       "type            0\n",
       "area            0\n",
       "area_unit       0\n",
       "type_of_move    0\n",
       "month           0\n",
       "day             0\n",
       "New_old         0\n",
       "furnished       0\n",
       "dtype: int64"
      ]
     },
     "execution_count": 36,
     "metadata": {},
     "output_type": "execute_result"
    }
   ],
   "source": [
    "df2.isnull().sum()"
   ]
  },
  {
   "cell_type": "code",
   "execution_count": 37,
   "metadata": {},
   "outputs": [
    {
     "data": {
      "image/png": "[encoded data removed]",
      "text/plain": [
       "<Figure size 1440x576 with 1 Axes>"
      ]
     },
     "metadata": {
      "needs_background": "light"
     },
     "output_type": "display_data"
    }
   ],
   "source": [
    "fig, ax = plt.subplots()\n",
    "fig.set_size_inches(20, 8)\n",
    "sns.countplot(x ='No_of_rooms', data = df2)\n",
    "ax.set_xlabel('No. of Rooms', fontsize=15)\n",
    "ax.set_ylabel('Count', fontsize=15)\n",
    "ax.set_title('total Rooms in data', fontsize=15)\n",
    "ax.tick_params(labelsize=15)\n",
    "sns.despine()"
   ]
  },
  {
   "cell_type": "code",
   "execution_count": 38,
   "metadata": {},
   "outputs": [
    {
     "data": {
      "image/png": "[encoded data removed]",
      "text/plain": [
       "<Figure size 1440x576 with 1 Axes>"
      ]
     },
     "metadata": {
      "needs_background": "light"
     },
     "output_type": "display_data"
    }
   ],
   "source": [
    "fig, ax = plt.subplots()\n",
    "fig.set_size_inches(20, 8)\n",
    "sns.countplot(x ='furnished', data = df2)\n",
    "ax.set_xlabel('Furnished/Unfurnished', fontsize=15)\n",
    "ax.set_ylabel('Count', fontsize=15)\n",
    "ax.set_title('total Count in data', fontsize=15)\n",
    "ax.tick_params(labelsize=15)\n",
    "sns.despine()"
   ]
  },
  {
   "cell_type": "code",
   "execution_count": 39,
   "metadata": {},
   "outputs": [
    {
     "data": {
      "text/html": [
       "<div>\n",
       "<style scoped>\n",
       "    .dataframe tbody tr th:only-of-type {\n",
       "        vertical-align: middle;\n",
       "    }\n",
       "\n",
       "    .dataframe tbody tr th {\n",
       "        vertical-align: top;\n",
       "    }\n",
       "\n",
       "    .dataframe thead th {\n",
       "        text-align: right;\n",
       "    }\n",
       "</style>\n",
       "<table border=\"1\" class=\"dataframe\">\n",
       "  <thead>\n",
       "    <tr style=\"text-align: right;\">\n",
       "      <th></th>\n",
       "      <th>price</th>\n",
       "      <th>area</th>\n",
       "    </tr>\n",
       "  </thead>\n",
       "  <tbody>\n",
       "    <tr>\n",
       "      <th>price</th>\n",
       "      <td>1.000000</td>\n",
       "      <td>-0.013116</td>\n",
       "    </tr>\n",
       "    <tr>\n",
       "      <th>area</th>\n",
       "      <td>-0.013116</td>\n",
       "      <td>1.000000</td>\n",
       "    </tr>\n",
       "  </tbody>\n",
       "</table>\n",
       "</div>"
      ],
      "text/plain": [
       "          price      area\n",
       "price  1.000000 -0.013116\n",
       "area  -0.013116  1.000000"
      ]
     },
     "execution_count": 39,
     "metadata": {},
     "output_type": "execute_result"
    }
   ],
   "source": [
    "df2.corr()"
   ]
  },
  {
   "cell_type": "code",
   "execution_count": 40,
   "metadata": {},
   "outputs": [
    {
     "data": {
      "image/png": "[encoded data removed]",
      "text/plain": [
       "<Figure size 936x360 with 2 Axes>"
      ]
     },
     "metadata": {
      "needs_background": "light"
     },
     "output_type": "display_data"
    }
   ],
   "source": [
    "import warnings\n",
    "warnings.filterwarnings('ignore')\n",
    "\n",
    "fig, (ax1, ax2) = plt.subplots(nrows = 1, ncols = 2, figsize = (13, 5))\n",
    "sns.boxplot(x = 'price', data = df2, orient = 'v', ax = ax1)\n",
    "ax1.set_xlabel('Price', fontsize=15)\n",
    "ax1.set_ylabel('Cr', fontsize=15)\n",
    "ax1.set_title('Price Distribution', fontsize=15)\n",
    "ax1.tick_params(labelsize=15)\n",
    "\n",
    "sns.distplot(df['price'], ax = ax2)\n",
    "sns.despine(ax = ax2)\n",
    "ax2.set_xlabel('price', fontsize=15)\n",
    "ax2.set_ylabel('Cr', fontsize=15)\n",
    "ax2.set_title('Price', fontsize=15)\n",
    "ax2.tick_params(labelsize=15)\n",
    "\n",
    "plt.subplots_adjust(wspace=0.5)\n",
    "plt.tight_layout()"
   ]
  },
  {
   "cell_type": "code",
   "execution_count": 41,
   "metadata": {},
   "outputs": [
    {
     "data": {
      "image/png": "[encoded data removed]",
      "text/plain": [
       "<Figure size 936x360 with 2 Axes>"
      ]
     },
     "metadata": {
      "needs_background": "light"
     },
     "output_type": "display_data"
    }
   ],
   "source": [
    "import warnings\n",
    "warnings.filterwarnings('ignore')\n",
    "\n",
    "fig, (ax1, ax2) = plt.subplots(nrows = 1, ncols = 2, figsize = (13, 5))\n",
    "sns.boxplot(x = 'area', data = df2, orient = 'v', ax = ax1)\n",
    "ax1.set_xlabel('Area', fontsize=15)\n",
    "ax1.set_ylabel('Sqft', fontsize=15)\n",
    "ax1.set_title('Area Distribution', fontsize=15)\n",
    "ax1.tick_params(labelsize=15)\n",
    "\n",
    "sns.distplot(df['area'], ax = ax2)\n",
    "sns.despine(ax = ax2)\n",
    "ax2.set_xlabel('Area', fontsize=15)\n",
    "ax2.set_ylabel('Sqft', fontsize=15)\n",
    "ax2.set_title('Area sqft', fontsize=15)\n",
    "ax2.tick_params(labelsize=15)\n",
    "\n",
    "plt.subplots_adjust(wspace=0.5)\n",
    "plt.tight_layout()"
   ]
  },
  {
   "cell_type": "code",
   "execution_count": 42,
   "metadata": {},
   "outputs": [],
   "source": [
    "#after analysis of bad corelation featured a new column of price/unit=rate_sqft"
   ]
  },
  {
   "cell_type": "code",
   "execution_count": 43,
   "metadata": {},
   "outputs": [],
   "source": [
    "df3 = df2.assign(Rate_sqft = (df2.price*10000000)/df2.area) "
   ]
  },
  {
   "cell_type": "code",
   "execution_count": 44,
   "metadata": {},
   "outputs": [
    {
     "data": {
      "text/html": [
       "<div>\n",
       "<style scoped>\n",
       "    .dataframe tbody tr th:only-of-type {\n",
       "        vertical-align: middle;\n",
       "    }\n",
       "\n",
       "    .dataframe tbody tr th {\n",
       "        vertical-align: top;\n",
       "    }\n",
       "\n",
       "    .dataframe thead th {\n",
       "        text-align: right;\n",
       "    }\n",
       "</style>\n",
       "<table border=\"1\" class=\"dataframe\">\n",
       "  <thead>\n",
       "    <tr style=\"text-align: right;\">\n",
       "      <th></th>\n",
       "      <th>price</th>\n",
       "      <th>unit</th>\n",
       "      <th>No_of_rooms</th>\n",
       "      <th>bhk</th>\n",
       "      <th>type</th>\n",
       "      <th>area</th>\n",
       "      <th>area_unit</th>\n",
       "      <th>type_of_move</th>\n",
       "      <th>month</th>\n",
       "      <th>day</th>\n",
       "      <th>New_old</th>\n",
       "      <th>furnished</th>\n",
       "      <th>Rate_sqft</th>\n",
       "    </tr>\n",
       "  </thead>\n",
       "  <tbody>\n",
       "    <tr>\n",
       "      <th>0</th>\n",
       "      <td>1.570</td>\n",
       "      <td>Cr</td>\n",
       "      <td>1</td>\n",
       "      <td>BHK</td>\n",
       "      <td>Apartment</td>\n",
       "      <td>460</td>\n",
       "      <td>sqft</td>\n",
       "      <td>Ready</td>\n",
       "      <td>Jan</td>\n",
       "      <td>5</td>\n",
       "      <td>New</td>\n",
       "      <td>Unfurnished</td>\n",
       "      <td>34130.434783</td>\n",
       "    </tr>\n",
       "    <tr>\n",
       "      <th>1</th>\n",
       "      <td>1.850</td>\n",
       "      <td>Cr</td>\n",
       "      <td>2</td>\n",
       "      <td>BHK</td>\n",
       "      <td>Apartment</td>\n",
       "      <td>670</td>\n",
       "      <td>sqft</td>\n",
       "      <td>Ready</td>\n",
       "      <td>Jan</td>\n",
       "      <td>1</td>\n",
       "      <td>New</td>\n",
       "      <td>Semi-Furnished</td>\n",
       "      <td>27611.940299</td>\n",
       "    </tr>\n",
       "    <tr>\n",
       "      <th>2</th>\n",
       "      <td>0.371</td>\n",
       "      <td>Cr</td>\n",
       "      <td>1</td>\n",
       "      <td>BHK</td>\n",
       "      <td>Apartment</td>\n",
       "      <td>410</td>\n",
       "      <td>sqft</td>\n",
       "      <td>Ready</td>\n",
       "      <td>Jan</td>\n",
       "      <td>1</td>\n",
       "      <td>New</td>\n",
       "      <td>Unfurnished</td>\n",
       "      <td>9048.780488</td>\n",
       "    </tr>\n",
       "    <tr>\n",
       "      <th>3</th>\n",
       "      <td>1.150</td>\n",
       "      <td>Cr</td>\n",
       "      <td>1</td>\n",
       "      <td>BHK</td>\n",
       "      <td>Apartment</td>\n",
       "      <td>488</td>\n",
       "      <td>sqft</td>\n",
       "      <td>Possession</td>\n",
       "      <td>Apr</td>\n",
       "      <td>20</td>\n",
       "      <td>New</td>\n",
       "      <td>Unfurnished</td>\n",
       "      <td>23565.573770</td>\n",
       "    </tr>\n",
       "    <tr>\n",
       "      <th>4</th>\n",
       "      <td>0.393</td>\n",
       "      <td>Cr</td>\n",
       "      <td>1</td>\n",
       "      <td>BHK</td>\n",
       "      <td>Apartment</td>\n",
       "      <td>439</td>\n",
       "      <td>sqft</td>\n",
       "      <td>Possession</td>\n",
       "      <td>Jun</td>\n",
       "      <td>21</td>\n",
       "      <td>New</td>\n",
       "      <td>Unfurnished</td>\n",
       "      <td>8952.164009</td>\n",
       "    </tr>\n",
       "  </tbody>\n",
       "</table>\n",
       "</div>"
      ],
      "text/plain": [
       "   price unit No_of_rooms  bhk       type  area area_unit type_of_move month  \\\n",
       "0  1.570   Cr           1  BHK  Apartment   460      sqft        Ready   Jan   \n",
       "1  1.850   Cr           2  BHK  Apartment   670      sqft        Ready   Jan   \n",
       "2  0.371   Cr           1  BHK  Apartment   410      sqft        Ready   Jan   \n",
       "3  1.150   Cr           1  BHK  Apartment   488      sqft   Possession   Apr   \n",
       "4  0.393   Cr           1  BHK  Apartment   439      sqft   Possession   Jun   \n",
       "\n",
       "  day New_old       furnished     Rate_sqft  \n",
       "0   5     New     Unfurnished  34130.434783  \n",
       "1   1     New  Semi-Furnished  27611.940299  \n",
       "2   1     New     Unfurnished   9048.780488  \n",
       "3  20     New     Unfurnished  23565.573770  \n",
       "4  21     New     Unfurnished   8952.164009  "
      ]
     },
     "execution_count": 44,
     "metadata": {},
     "output_type": "execute_result"
    }
   ],
   "source": [
    "df3.head()"
   ]
  },
  {
   "cell_type": "code",
   "execution_count": 45,
   "metadata": {},
   "outputs": [
    {
     "data": {
      "image/png": "[encoded data removed]",
      "text/plain": [
       "<Figure size 936x360 with 2 Axes>"
      ]
     },
     "metadata": {
      "needs_background": "light"
     },
     "output_type": "display_data"
    }
   ],
   "source": [
    "import warnings\n",
    "warnings.filterwarnings('ignore')\n",
    "\n",
    "fig, (ax1, ax2) = plt.subplots(nrows = 1, ncols = 2, figsize = (13, 5))\n",
    "sns.boxplot(x = 'Rate_sqft', data = df3, orient = 'v', ax = ax1)\n",
    "ax1.set_xlabel('Rate per sqft', fontsize=15)\n",
    "ax1.set_ylabel('Price', fontsize=15)\n",
    "ax1.set_title(' Distribution', fontsize=15)\n",
    "ax1.tick_params(labelsize=15)\n",
    "\n",
    "sns.distplot(df3['Rate_sqft'], ax = ax2)\n",
    "sns.despine(ax = ax2)\n",
    "ax2.set_xlabel(\"Rate per sqft\", fontsize=15)\n",
    "ax2.set_ylabel('Price', fontsize=15)\n",
    "ax2.set_title('Rate per sqft', fontsize=15)\n",
    "ax2.tick_params(labelsize=15)\n",
    "\n",
    "plt.subplots_adjust(wspace=0.5)\n",
    "plt.tight_layout()"
   ]
  },
  {
   "cell_type": "code",
   "execution_count": 46,
   "metadata": {},
   "outputs": [
    {
     "data": {
      "text/html": [
       "<div>\n",
       "<style scoped>\n",
       "    .dataframe tbody tr th:only-of-type {\n",
       "        vertical-align: middle;\n",
       "    }\n",
       "\n",
       "    .dataframe tbody tr th {\n",
       "        vertical-align: top;\n",
       "    }\n",
       "\n",
       "    .dataframe thead th {\n",
       "        text-align: right;\n",
       "    }\n",
       "</style>\n",
       "<table border=\"1\" class=\"dataframe\">\n",
       "  <thead>\n",
       "    <tr style=\"text-align: right;\">\n",
       "      <th></th>\n",
       "      <th>price</th>\n",
       "      <th>area</th>\n",
       "      <th>Rate_sqft</th>\n",
       "    </tr>\n",
       "  </thead>\n",
       "  <tbody>\n",
       "    <tr>\n",
       "      <th>price</th>\n",
       "      <td>1.000000</td>\n",
       "      <td>-0.013116</td>\n",
       "      <td>0.619728</td>\n",
       "    </tr>\n",
       "    <tr>\n",
       "      <th>area</th>\n",
       "      <td>-0.013116</td>\n",
       "      <td>1.000000</td>\n",
       "      <td>-0.044527</td>\n",
       "    </tr>\n",
       "    <tr>\n",
       "      <th>Rate_sqft</th>\n",
       "      <td>0.619728</td>\n",
       "      <td>-0.044527</td>\n",
       "      <td>1.000000</td>\n",
       "    </tr>\n",
       "  </tbody>\n",
       "</table>\n",
       "</div>"
      ],
      "text/plain": [
       "              price      area  Rate_sqft\n",
       "price      1.000000 -0.013116   0.619728\n",
       "area      -0.013116  1.000000  -0.044527\n",
       "Rate_sqft  0.619728 -0.044527   1.000000"
      ]
     },
     "execution_count": 46,
     "metadata": {},
     "output_type": "execute_result"
    }
   ],
   "source": [
    "df3.corr()#corelation improved "
   ]
  },
  {
   "cell_type": "code",
   "execution_count": 47,
   "metadata": {
    "scrolled": true
   },
   "outputs": [
    {
     "data": {
      "text/html": [
       "<div>\n",
       "<style scoped>\n",
       "    .dataframe tbody tr th:only-of-type {\n",
       "        vertical-align: middle;\n",
       "    }\n",
       "\n",
       "    .dataframe tbody tr th {\n",
       "        vertical-align: top;\n",
       "    }\n",
       "\n",
       "    .dataframe thead th {\n",
       "        text-align: right;\n",
       "    }\n",
       "</style>\n",
       "<table border=\"1\" class=\"dataframe\">\n",
       "  <thead>\n",
       "    <tr style=\"text-align: right;\">\n",
       "      <th></th>\n",
       "      <th>price</th>\n",
       "      <th>area</th>\n",
       "      <th>Rate_sqft</th>\n",
       "    </tr>\n",
       "    <tr>\n",
       "      <th>type</th>\n",
       "      <th></th>\n",
       "      <th></th>\n",
       "      <th></th>\n",
       "    </tr>\n",
       "  </thead>\n",
       "  <tbody>\n",
       "    <tr>\n",
       "      <th>Apartment</th>\n",
       "      <td>2.258227</td>\n",
       "      <td>770.571942</td>\n",
       "      <td>26255.758253</td>\n",
       "    </tr>\n",
       "    <tr>\n",
       "      <th>Builder</th>\n",
       "      <td>1.359107</td>\n",
       "      <td>644.464286</td>\n",
       "      <td>21810.944704</td>\n",
       "    </tr>\n",
       "    <tr>\n",
       "      <th>House</th>\n",
       "      <td>1.847000</td>\n",
       "      <td>116652.062500</td>\n",
       "      <td>24510.269661</td>\n",
       "    </tr>\n",
       "    <tr>\n",
       "      <th>Penthouse</th>\n",
       "      <td>12.150000</td>\n",
       "      <td>2151.750000</td>\n",
       "      <td>51177.002532</td>\n",
       "    </tr>\n",
       "    <tr>\n",
       "      <th>Villa</th>\n",
       "      <td>2.005643</td>\n",
       "      <td>1714.571429</td>\n",
       "      <td>12672.906845</td>\n",
       "    </tr>\n",
       "  </tbody>\n",
       "</table>\n",
       "</div>"
      ],
      "text/plain": [
       "               price           area     Rate_sqft\n",
       "type                                             \n",
       "Apartment   2.258227     770.571942  26255.758253\n",
       "Builder     1.359107     644.464286  21810.944704\n",
       "House       1.847000  116652.062500  24510.269661\n",
       "Penthouse  12.150000    2151.750000  51177.002532\n",
       "Villa       2.005643    1714.571429  12672.906845"
      ]
     },
     "execution_count": 47,
     "metadata": {},
     "output_type": "execute_result"
    }
   ],
   "source": [
    "df3.groupby([\"type\"]).mean()"
   ]
  },
  {
   "cell_type": "code",
   "execution_count": 48,
   "metadata": {},
   "outputs": [
    {
     "data": {
      "text/html": [
       "<div>\n",
       "<style scoped>\n",
       "    .dataframe tbody tr th:only-of-type {\n",
       "        vertical-align: middle;\n",
       "    }\n",
       "\n",
       "    .dataframe tbody tr th {\n",
       "        vertical-align: top;\n",
       "    }\n",
       "\n",
       "    .dataframe thead th {\n",
       "        text-align: right;\n",
       "    }\n",
       "</style>\n",
       "<table border=\"1\" class=\"dataframe\">\n",
       "  <thead>\n",
       "    <tr style=\"text-align: right;\">\n",
       "      <th></th>\n",
       "      <th>price</th>\n",
       "      <th>unit</th>\n",
       "      <th>No_of_rooms</th>\n",
       "      <th>bhk</th>\n",
       "      <th>area</th>\n",
       "      <th>area_unit</th>\n",
       "      <th>type_of_move</th>\n",
       "      <th>month</th>\n",
       "      <th>day</th>\n",
       "      <th>New_old</th>\n",
       "      <th>furnished</th>\n",
       "      <th>Rate_sqft</th>\n",
       "    </tr>\n",
       "    <tr>\n",
       "      <th>type</th>\n",
       "      <th></th>\n",
       "      <th></th>\n",
       "      <th></th>\n",
       "      <th></th>\n",
       "      <th></th>\n",
       "      <th></th>\n",
       "      <th></th>\n",
       "      <th></th>\n",
       "      <th></th>\n",
       "      <th></th>\n",
       "      <th></th>\n",
       "      <th></th>\n",
       "    </tr>\n",
       "  </thead>\n",
       "  <tbody>\n",
       "    <tr>\n",
       "      <th>Apartment</th>\n",
       "      <td>1390</td>\n",
       "      <td>1390</td>\n",
       "      <td>1390</td>\n",
       "      <td>1390</td>\n",
       "      <td>1390</td>\n",
       "      <td>1390</td>\n",
       "      <td>1390</td>\n",
       "      <td>1390</td>\n",
       "      <td>1390</td>\n",
       "      <td>1390</td>\n",
       "      <td>1390</td>\n",
       "      <td>1390</td>\n",
       "    </tr>\n",
       "    <tr>\n",
       "      <th>Builder</th>\n",
       "      <td>28</td>\n",
       "      <td>28</td>\n",
       "      <td>28</td>\n",
       "      <td>28</td>\n",
       "      <td>28</td>\n",
       "      <td>28</td>\n",
       "      <td>28</td>\n",
       "      <td>28</td>\n",
       "      <td>28</td>\n",
       "      <td>28</td>\n",
       "      <td>28</td>\n",
       "      <td>28</td>\n",
       "    </tr>\n",
       "    <tr>\n",
       "      <th>House</th>\n",
       "      <td>64</td>\n",
       "      <td>64</td>\n",
       "      <td>64</td>\n",
       "      <td>64</td>\n",
       "      <td>64</td>\n",
       "      <td>64</td>\n",
       "      <td>64</td>\n",
       "      <td>64</td>\n",
       "      <td>64</td>\n",
       "      <td>64</td>\n",
       "      <td>64</td>\n",
       "      <td>64</td>\n",
       "    </tr>\n",
       "    <tr>\n",
       "      <th>Penthouse</th>\n",
       "      <td>4</td>\n",
       "      <td>4</td>\n",
       "      <td>4</td>\n",
       "      <td>4</td>\n",
       "      <td>4</td>\n",
       "      <td>4</td>\n",
       "      <td>4</td>\n",
       "      <td>4</td>\n",
       "      <td>4</td>\n",
       "      <td>4</td>\n",
       "      <td>4</td>\n",
       "      <td>4</td>\n",
       "    </tr>\n",
       "    <tr>\n",
       "      <th>Villa</th>\n",
       "      <td>14</td>\n",
       "      <td>14</td>\n",
       "      <td>14</td>\n",
       "      <td>14</td>\n",
       "      <td>14</td>\n",
       "      <td>14</td>\n",
       "      <td>14</td>\n",
       "      <td>14</td>\n",
       "      <td>14</td>\n",
       "      <td>14</td>\n",
       "      <td>14</td>\n",
       "      <td>14</td>\n",
       "    </tr>\n",
       "  </tbody>\n",
       "</table>\n",
       "</div>"
      ],
      "text/plain": [
       "           price  unit  No_of_rooms   bhk  area  area_unit  type_of_move  \\\n",
       "type                                                                       \n",
       "Apartment   1390  1390         1390  1390  1390       1390          1390   \n",
       "Builder       28    28           28    28    28         28            28   \n",
       "House         64    64           64    64    64         64            64   \n",
       "Penthouse      4     4            4     4     4          4             4   \n",
       "Villa         14    14           14    14    14         14            14   \n",
       "\n",
       "           month   day  New_old  furnished  Rate_sqft  \n",
       "type                                                   \n",
       "Apartment   1390  1390     1390       1390       1390  \n",
       "Builder       28    28       28         28         28  \n",
       "House         64    64       64         64         64  \n",
       "Penthouse      4     4        4          4          4  \n",
       "Villa         14    14       14         14         14  "
      ]
     },
     "execution_count": 48,
     "metadata": {},
     "output_type": "execute_result"
    }
   ],
   "source": [
    "df3.groupby([\"type\"]).count()"
   ]
  },
  {
   "cell_type": "markdown",
   "metadata": {},
   "source": [
    "### After analysis of data majority of the segment belongs to apartment and after changing the grouping (more than 95% data )"
   ]
  },
  {
   "cell_type": "code",
   "execution_count": 49,
   "metadata": {},
   "outputs": [],
   "source": [
    "df_appartment=df2[df2.type==\"Apartment\"]"
   ]
  },
  {
   "cell_type": "code",
   "execution_count": 50,
   "metadata": {},
   "outputs": [
    {
     "data": {
      "text/plain": [
       "price           1390\n",
       "unit            1390\n",
       "No_of_rooms     1390\n",
       "bhk             1390\n",
       "type            1390\n",
       "area            1390\n",
       "area_unit       1390\n",
       "type_of_move    1390\n",
       "month           1390\n",
       "day             1390\n",
       "New_old         1390\n",
       "furnished       1390\n",
       "dtype: int64"
      ]
     },
     "execution_count": 50,
     "metadata": {},
     "output_type": "execute_result"
    }
   ],
   "source": [
    "df_appartment.count()"
   ]
  },
  {
   "cell_type": "code",
   "execution_count": 51,
   "metadata": {},
   "outputs": [
    {
     "data": {
      "image/png": "[encoded data removed]",
      "text/plain": [
       "<Figure size 936x360 with 2 Axes>"
      ]
     },
     "metadata": {
      "needs_background": "light"
     },
     "output_type": "display_data"
    }
   ],
   "source": [
    "import warnings\n",
    "warnings.filterwarnings('ignore')\n",
    "\n",
    "fig, (ax1, ax2) = plt.subplots(nrows = 1, ncols = 2, figsize = (13, 5))\n",
    "sns.boxplot(x = 'price', data = df_appartment, orient = 'v', ax = ax1)\n",
    "ax1.set_xlabel('Price', fontsize=15)\n",
    "ax1.set_ylabel('Cr', fontsize=15)\n",
    "ax1.set_title('Price Distribution', fontsize=15)\n",
    "ax1.tick_params(labelsize=15)\n",
    "\n",
    "sns.distplot(df_appartment['price'], ax = ax2)\n",
    "sns.despine(ax = ax2)\n",
    "ax2.set_xlabel('price', fontsize=15)\n",
    "ax2.set_ylabel('Cr', fontsize=15)\n",
    "ax2.set_title('Price', fontsize=15)\n",
    "ax2.tick_params(labelsize=15)\n",
    "\n",
    "plt.subplots_adjust(wspace=0.5)\n",
    "plt.tight_layout()"
   ]
  },
  {
   "cell_type": "code",
   "execution_count": 52,
   "metadata": {},
   "outputs": [
    {
     "data": {
      "text/html": [
       "<div>\n",
       "<style scoped>\n",
       "    .dataframe tbody tr th:only-of-type {\n",
       "        vertical-align: middle;\n",
       "    }\n",
       "\n",
       "    .dataframe tbody tr th {\n",
       "        vertical-align: top;\n",
       "    }\n",
       "\n",
       "    .dataframe thead th {\n",
       "        text-align: right;\n",
       "    }\n",
       "</style>\n",
       "<table border=\"1\" class=\"dataframe\">\n",
       "  <thead>\n",
       "    <tr style=\"text-align: right;\">\n",
       "      <th></th>\n",
       "      <th>price</th>\n",
       "      <th>area</th>\n",
       "    </tr>\n",
       "  </thead>\n",
       "  <tbody>\n",
       "    <tr>\n",
       "      <th>price</th>\n",
       "      <td>1.000000</td>\n",
       "      <td>0.865615</td>\n",
       "    </tr>\n",
       "    <tr>\n",
       "      <th>area</th>\n",
       "      <td>0.865615</td>\n",
       "      <td>1.000000</td>\n",
       "    </tr>\n",
       "  </tbody>\n",
       "</table>\n",
       "</div>"
      ],
      "text/plain": [
       "          price      area\n",
       "price  1.000000  0.865615\n",
       "area   0.865615  1.000000"
      ]
     },
     "execution_count": 52,
     "metadata": {},
     "output_type": "execute_result"
    }
   ],
   "source": [
    "df_appartment.corr() #corelation further increased "
   ]
  },
  {
   "cell_type": "code",
   "execution_count": 53,
   "metadata": {},
   "outputs": [],
   "source": [
    "df_house=df2[df3.type==\"House\"]"
   ]
  },
  {
   "cell_type": "code",
   "execution_count": 54,
   "metadata": {},
   "outputs": [
    {
     "data": {
      "text/html": [
       "<div>\n",
       "<style scoped>\n",
       "    .dataframe tbody tr th:only-of-type {\n",
       "        vertical-align: middle;\n",
       "    }\n",
       "\n",
       "    .dataframe tbody tr th {\n",
       "        vertical-align: top;\n",
       "    }\n",
       "\n",
       "    .dataframe thead th {\n",
       "        text-align: right;\n",
       "    }\n",
       "</style>\n",
       "<table border=\"1\" class=\"dataframe\">\n",
       "  <thead>\n",
       "    <tr style=\"text-align: right;\">\n",
       "      <th></th>\n",
       "      <th>price</th>\n",
       "      <th>unit</th>\n",
       "      <th>No_of_rooms</th>\n",
       "      <th>bhk</th>\n",
       "      <th>type</th>\n",
       "      <th>area</th>\n",
       "      <th>area_unit</th>\n",
       "      <th>type_of_move</th>\n",
       "      <th>month</th>\n",
       "      <th>day</th>\n",
       "      <th>New_old</th>\n",
       "      <th>furnished</th>\n",
       "    </tr>\n",
       "  </thead>\n",
       "  <tbody>\n",
       "    <tr>\n",
       "      <th>64</th>\n",
       "      <td>1.350</td>\n",
       "      <td>Cr</td>\n",
       "      <td>2</td>\n",
       "      <td>BHK</td>\n",
       "      <td>House</td>\n",
       "      <td>590</td>\n",
       "      <td>sqft</td>\n",
       "      <td>Possession</td>\n",
       "      <td>May</td>\n",
       "      <td>25</td>\n",
       "      <td>New</td>\n",
       "      <td>Furnished</td>\n",
       "    </tr>\n",
       "    <tr>\n",
       "      <th>406</th>\n",
       "      <td>0.513</td>\n",
       "      <td>Cr</td>\n",
       "      <td>1</td>\n",
       "      <td>BHK</td>\n",
       "      <td>House</td>\n",
       "      <td>388</td>\n",
       "      <td>sqft</td>\n",
       "      <td>Possession</td>\n",
       "      <td>Dec</td>\n",
       "      <td>22</td>\n",
       "      <td>New</td>\n",
       "      <td>Furnished</td>\n",
       "    </tr>\n",
       "    <tr>\n",
       "      <th>414</th>\n",
       "      <td>0.530</td>\n",
       "      <td>Cr</td>\n",
       "      <td>1</td>\n",
       "      <td>BHK</td>\n",
       "      <td>House</td>\n",
       "      <td>385</td>\n",
       "      <td>sqft</td>\n",
       "      <td>Ready</td>\n",
       "      <td>Jan</td>\n",
       "      <td>1</td>\n",
       "      <td>New</td>\n",
       "      <td>Furnished</td>\n",
       "    </tr>\n",
       "    <tr>\n",
       "      <th>455</th>\n",
       "      <td>0.485</td>\n",
       "      <td>Cr</td>\n",
       "      <td>2</td>\n",
       "      <td>BHK</td>\n",
       "      <td>House</td>\n",
       "      <td>594</td>\n",
       "      <td>sqft</td>\n",
       "      <td>Ready</td>\n",
       "      <td>Jan</td>\n",
       "      <td>1</td>\n",
       "      <td>New</td>\n",
       "      <td>Furnished</td>\n",
       "    </tr>\n",
       "    <tr>\n",
       "      <th>487</th>\n",
       "      <td>0.400</td>\n",
       "      <td>Cr</td>\n",
       "      <td>1</td>\n",
       "      <td>BHK</td>\n",
       "      <td>House</td>\n",
       "      <td>180</td>\n",
       "      <td>sqft</td>\n",
       "      <td>Ready</td>\n",
       "      <td>Jan</td>\n",
       "      <td>1</td>\n",
       "      <td>New</td>\n",
       "      <td>Furnished</td>\n",
       "    </tr>\n",
       "  </tbody>\n",
       "</table>\n",
       "</div>"
      ],
      "text/plain": [
       "     price unit No_of_rooms  bhk   type  area area_unit type_of_move month  \\\n",
       "64   1.350   Cr           2  BHK  House   590      sqft   Possession   May   \n",
       "406  0.513   Cr           1  BHK  House   388      sqft   Possession   Dec   \n",
       "414  0.530   Cr           1  BHK  House   385      sqft        Ready   Jan   \n",
       "455  0.485   Cr           2  BHK  House   594      sqft        Ready   Jan   \n",
       "487  0.400   Cr           1  BHK  House   180      sqft        Ready   Jan   \n",
       "\n",
       "    day New_old  furnished  \n",
       "64   25     New  Furnished  \n",
       "406  22     New  Furnished  \n",
       "414   1     New  Furnished  \n",
       "455   1     New  Furnished  \n",
       "487   1     New  Furnished  "
      ]
     },
     "execution_count": 54,
     "metadata": {},
     "output_type": "execute_result"
    }
   ],
   "source": [
    "df_house.head()"
   ]
  },
  {
   "cell_type": "code",
   "execution_count": 55,
   "metadata": {},
   "outputs": [
    {
     "data": {
      "text/html": [
       "<div>\n",
       "<style scoped>\n",
       "    .dataframe tbody tr th:only-of-type {\n",
       "        vertical-align: middle;\n",
       "    }\n",
       "\n",
       "    .dataframe tbody tr th {\n",
       "        vertical-align: top;\n",
       "    }\n",
       "\n",
       "    .dataframe thead th {\n",
       "        text-align: right;\n",
       "    }\n",
       "</style>\n",
       "<table border=\"1\" class=\"dataframe\">\n",
       "  <thead>\n",
       "    <tr style=\"text-align: right;\">\n",
       "      <th></th>\n",
       "      <th>price</th>\n",
       "      <th>area</th>\n",
       "    </tr>\n",
       "  </thead>\n",
       "  <tbody>\n",
       "    <tr>\n",
       "      <th>price</th>\n",
       "      <td>1.00000</td>\n",
       "      <td>-0.06087</td>\n",
       "    </tr>\n",
       "    <tr>\n",
       "      <th>area</th>\n",
       "      <td>-0.06087</td>\n",
       "      <td>1.00000</td>\n",
       "    </tr>\n",
       "  </tbody>\n",
       "</table>\n",
       "</div>"
      ],
      "text/plain": [
       "         price     area\n",
       "price  1.00000 -0.06087\n",
       "area  -0.06087  1.00000"
      ]
     },
     "execution_count": 55,
     "metadata": {},
     "output_type": "execute_result"
    }
   ],
   "source": [
    "df_house.corr()"
   ]
  },
  {
   "cell_type": "code",
   "execution_count": 56,
   "metadata": {},
   "outputs": [
    {
     "data": {
      "text/plain": [
       "<seaborn.axisgrid.PairGrid at 0x1ef1da21828>"
      ]
     },
     "execution_count": 56,
     "metadata": {},
     "output_type": "execute_result"
    },
    {
     "data": {
      "image/png": "[encoded data removed]",
      "text/plain": [
       "<Figure size 360x360 with 6 Axes>"
      ]
     },
     "metadata": {
      "needs_background": "light"
     },
     "output_type": "display_data"
    }
   ],
   "source": [
    "import seaborn as sns\n",
    "sns.pairplot(df2)"
   ]
  },
  {
   "cell_type": "code",
   "execution_count": 57,
   "metadata": {},
   "outputs": [
    {
     "data": {
      "text/plain": [
       "<seaborn.axisgrid.PairGrid at 0x1ef1cb98438>"
      ]
     },
     "execution_count": 57,
     "metadata": {},
     "output_type": "execute_result"
    },
    {
     "data": {
      "image/png": "[encoded data removed]",
      "text/plain": [
       "<Figure size 360x360 with 6 Axes>"
      ]
     },
     "metadata": {
      "needs_background": "light"
     },
     "output_type": "display_data"
    }
   ],
   "source": [
    "import seaborn as sns\n",
    "sns.pairplot(df_appartment)"
   ]
  },
  {
   "cell_type": "code",
   "execution_count": 58,
   "metadata": {},
   "outputs": [],
   "source": [
    "#df_appartment.to_excel(\"clean_dataset_realestate.xlsx\")  "
   ]
  },
  {
   "cell_type": "markdown",
   "metadata": {},
   "source": [
    "# Modeling"
   ]
  },
  {
   "cell_type": "code",
   "execution_count": 59,
   "metadata": {},
   "outputs": [
    {
     "data": {
      "text/html": [
       "<div>\n",
       "<style scoped>\n",
       "    .dataframe tbody tr th:only-of-type {\n",
       "        vertical-align: middle;\n",
       "    }\n",
       "\n",
       "    .dataframe tbody tr th {\n",
       "        vertical-align: top;\n",
       "    }\n",
       "\n",
       "    .dataframe thead th {\n",
       "        text-align: right;\n",
       "    }\n",
       "</style>\n",
       "<table border=\"1\" class=\"dataframe\">\n",
       "  <thead>\n",
       "    <tr style=\"text-align: right;\">\n",
       "      <th></th>\n",
       "      <th>price</th>\n",
       "      <th>area</th>\n",
       "      <th>No_of_rooms_2</th>\n",
       "      <th>No_of_rooms_3</th>\n",
       "      <th>No_of_rooms_4</th>\n",
       "      <th>No_of_rooms_5</th>\n",
       "      <th>No_of_rooms_6</th>\n",
       "      <th>No_of_rooms_Apartment</th>\n",
       "      <th>No_of_rooms_House</th>\n",
       "      <th>No_of_rooms_Studio</th>\n",
       "      <th>...</th>\n",
       "      <th>day_37</th>\n",
       "      <th>day_41</th>\n",
       "      <th>day_42</th>\n",
       "      <th>day_45</th>\n",
       "      <th>day_47</th>\n",
       "      <th>day_51</th>\n",
       "      <th>day_Regent</th>\n",
       "      <th>day_Symbolic</th>\n",
       "      <th>furnished_Semi-Furnished</th>\n",
       "      <th>furnished_Unfurnished</th>\n",
       "    </tr>\n",
       "  </thead>\n",
       "  <tbody>\n",
       "    <tr>\n",
       "      <th>0</th>\n",
       "      <td>1.570</td>\n",
       "      <td>460</td>\n",
       "      <td>0</td>\n",
       "      <td>0</td>\n",
       "      <td>0</td>\n",
       "      <td>0</td>\n",
       "      <td>0</td>\n",
       "      <td>0</td>\n",
       "      <td>0</td>\n",
       "      <td>0</td>\n",
       "      <td>...</td>\n",
       "      <td>0</td>\n",
       "      <td>0</td>\n",
       "      <td>0</td>\n",
       "      <td>0</td>\n",
       "      <td>0</td>\n",
       "      <td>0</td>\n",
       "      <td>0</td>\n",
       "      <td>0</td>\n",
       "      <td>0</td>\n",
       "      <td>1</td>\n",
       "    </tr>\n",
       "    <tr>\n",
       "      <th>1</th>\n",
       "      <td>1.850</td>\n",
       "      <td>670</td>\n",
       "      <td>1</td>\n",
       "      <td>0</td>\n",
       "      <td>0</td>\n",
       "      <td>0</td>\n",
       "      <td>0</td>\n",
       "      <td>0</td>\n",
       "      <td>0</td>\n",
       "      <td>0</td>\n",
       "      <td>...</td>\n",
       "      <td>0</td>\n",
       "      <td>0</td>\n",
       "      <td>0</td>\n",
       "      <td>0</td>\n",
       "      <td>0</td>\n",
       "      <td>0</td>\n",
       "      <td>0</td>\n",
       "      <td>0</td>\n",
       "      <td>1</td>\n",
       "      <td>0</td>\n",
       "    </tr>\n",
       "    <tr>\n",
       "      <th>2</th>\n",
       "      <td>0.371</td>\n",
       "      <td>410</td>\n",
       "      <td>0</td>\n",
       "      <td>0</td>\n",
       "      <td>0</td>\n",
       "      <td>0</td>\n",
       "      <td>0</td>\n",
       "      <td>0</td>\n",
       "      <td>0</td>\n",
       "      <td>0</td>\n",
       "      <td>...</td>\n",
       "      <td>0</td>\n",
       "      <td>0</td>\n",
       "      <td>0</td>\n",
       "      <td>0</td>\n",
       "      <td>0</td>\n",
       "      <td>0</td>\n",
       "      <td>0</td>\n",
       "      <td>0</td>\n",
       "      <td>0</td>\n",
       "      <td>1</td>\n",
       "    </tr>\n",
       "    <tr>\n",
       "      <th>3</th>\n",
       "      <td>1.150</td>\n",
       "      <td>488</td>\n",
       "      <td>0</td>\n",
       "      <td>0</td>\n",
       "      <td>0</td>\n",
       "      <td>0</td>\n",
       "      <td>0</td>\n",
       "      <td>0</td>\n",
       "      <td>0</td>\n",
       "      <td>0</td>\n",
       "      <td>...</td>\n",
       "      <td>0</td>\n",
       "      <td>0</td>\n",
       "      <td>0</td>\n",
       "      <td>0</td>\n",
       "      <td>0</td>\n",
       "      <td>0</td>\n",
       "      <td>0</td>\n",
       "      <td>0</td>\n",
       "      <td>0</td>\n",
       "      <td>1</td>\n",
       "    </tr>\n",
       "    <tr>\n",
       "      <th>4</th>\n",
       "      <td>0.393</td>\n",
       "      <td>439</td>\n",
       "      <td>0</td>\n",
       "      <td>0</td>\n",
       "      <td>0</td>\n",
       "      <td>0</td>\n",
       "      <td>0</td>\n",
       "      <td>0</td>\n",
       "      <td>0</td>\n",
       "      <td>0</td>\n",
       "      <td>...</td>\n",
       "      <td>0</td>\n",
       "      <td>0</td>\n",
       "      <td>0</td>\n",
       "      <td>0</td>\n",
       "      <td>0</td>\n",
       "      <td>0</td>\n",
       "      <td>0</td>\n",
       "      <td>0</td>\n",
       "      <td>0</td>\n",
       "      <td>1</td>\n",
       "    </tr>\n",
       "  </tbody>\n",
       "</table>\n",
       "<p>5 rows × 82 columns</p>\n",
       "</div>"
      ],
      "text/plain": [
       "   price  area  No_of_rooms_2  No_of_rooms_3  No_of_rooms_4  No_of_rooms_5  \\\n",
       "0  1.570   460              0              0              0              0   \n",
       "1  1.850   670              1              0              0              0   \n",
       "2  0.371   410              0              0              0              0   \n",
       "3  1.150   488              0              0              0              0   \n",
       "4  0.393   439              0              0              0              0   \n",
       "\n",
       "   No_of_rooms_6  No_of_rooms_Apartment  No_of_rooms_House  \\\n",
       "0              0                      0                  0   \n",
       "1              0                      0                  0   \n",
       "2              0                      0                  0   \n",
       "3              0                      0                  0   \n",
       "4              0                      0                  0   \n",
       "\n",
       "   No_of_rooms_Studio  ...  day_37  day_41  day_42  day_45  day_47  day_51  \\\n",
       "0                   0  ...       0       0       0       0       0       0   \n",
       "1                   0  ...       0       0       0       0       0       0   \n",
       "2                   0  ...       0       0       0       0       0       0   \n",
       "3                   0  ...       0       0       0       0       0       0   \n",
       "4                   0  ...       0       0       0       0       0       0   \n",
       "\n",
       "   day_Regent  day_Symbolic  furnished_Semi-Furnished  furnished_Unfurnished  \n",
       "0           0             0                         0                      1  \n",
       "1           0             0                         1                      0  \n",
       "2           0             0                         0                      1  \n",
       "3           0             0                         0                      1  \n",
       "4           0             0                         0                      1  \n",
       "\n",
       "[5 rows x 82 columns]"
      ]
     },
     "execution_count": 59,
     "metadata": {},
     "output_type": "execute_result"
    }
   ],
   "source": [
    "dum_df=df_appartment\n",
    "from sklearn.preprocessing import OneHotEncoder\n",
    "# generate binary values using get_dummies\n",
    "dum_df = pd.get_dummies(dum_df, columns=['unit', 'No_of_rooms', 'bhk', 'type', 'area_unit','type_of_move', 'month', 'day', 'New_old', 'furnished'], drop_first=True)\n",
    "# merge with main df bridge_df on key values\n",
    "#df_appartment =df_appartment.join(dum_df)\n",
    "dum_df.head()"
   ]
  },
  {
   "cell_type": "code",
   "execution_count": 63,
   "metadata": {},
   "outputs": [
    {
     "data": {
      "text/html": [
       "<div>\n",
       "<style scoped>\n",
       "    .dataframe tbody tr th:only-of-type {\n",
       "        vertical-align: middle;\n",
       "    }\n",
       "\n",
       "    .dataframe tbody tr th {\n",
       "        vertical-align: top;\n",
       "    }\n",
       "\n",
       "    .dataframe thead th {\n",
       "        text-align: right;\n",
       "    }\n",
       "</style>\n",
       "<table border=\"1\" class=\"dataframe\">\n",
       "  <thead>\n",
       "    <tr style=\"text-align: right;\">\n",
       "      <th></th>\n",
       "      <th>price</th>\n",
       "      <th>area</th>\n",
       "      <th>No_of_rooms_2</th>\n",
       "      <th>No_of_rooms_3</th>\n",
       "      <th>No_of_rooms_4</th>\n",
       "      <th>No_of_rooms_5</th>\n",
       "      <th>No_of_rooms_6</th>\n",
       "      <th>No_of_rooms_Apartment</th>\n",
       "      <th>No_of_rooms_House</th>\n",
       "      <th>No_of_rooms_Studio</th>\n",
       "      <th>...</th>\n",
       "      <th>day_37</th>\n",
       "      <th>day_41</th>\n",
       "      <th>day_42</th>\n",
       "      <th>day_45</th>\n",
       "      <th>day_47</th>\n",
       "      <th>day_51</th>\n",
       "      <th>day_Regent</th>\n",
       "      <th>day_Symbolic</th>\n",
       "      <th>furnished_Semi-Furnished</th>\n",
       "      <th>furnished_Unfurnished</th>\n",
       "    </tr>\n",
       "  </thead>\n",
       "  <tbody>\n",
       "    <tr>\n",
       "      <th>0</th>\n",
       "      <td>-0.272409</td>\n",
       "      <td>-0.661004</td>\n",
       "      <td>-0.874048</td>\n",
       "      <td>-0.47854</td>\n",
       "      <td>-0.193167</td>\n",
       "      <td>-0.085126</td>\n",
       "      <td>-0.046507</td>\n",
       "      <td>-0.037959</td>\n",
       "      <td>-0.037959</td>\n",
       "      <td>-0.097164</td>\n",
       "      <td>...</td>\n",
       "      <td>-0.026832</td>\n",
       "      <td>-0.026832</td>\n",
       "      <td>-0.026832</td>\n",
       "      <td>-0.053722</td>\n",
       "      <td>-0.026832</td>\n",
       "      <td>-0.026832</td>\n",
       "      <td>-0.026832</td>\n",
       "      <td>-0.026832</td>\n",
       "      <td>-0.104447</td>\n",
       "      <td>3.480403</td>\n",
       "    </tr>\n",
       "    <tr>\n",
       "      <th>1</th>\n",
       "      <td>-0.161582</td>\n",
       "      <td>-0.214052</td>\n",
       "      <td>1.144102</td>\n",
       "      <td>-0.47854</td>\n",
       "      <td>-0.193167</td>\n",
       "      <td>-0.085126</td>\n",
       "      <td>-0.046507</td>\n",
       "      <td>-0.037959</td>\n",
       "      <td>-0.037959</td>\n",
       "      <td>-0.097164</td>\n",
       "      <td>...</td>\n",
       "      <td>-0.026832</td>\n",
       "      <td>-0.026832</td>\n",
       "      <td>-0.026832</td>\n",
       "      <td>-0.053722</td>\n",
       "      <td>-0.026832</td>\n",
       "      <td>-0.026832</td>\n",
       "      <td>-0.026832</td>\n",
       "      <td>-0.026832</td>\n",
       "      <td>9.574271</td>\n",
       "      <td>-0.287323</td>\n",
       "    </tr>\n",
       "    <tr>\n",
       "      <th>2</th>\n",
       "      <td>-0.746990</td>\n",
       "      <td>-0.767421</td>\n",
       "      <td>-0.874048</td>\n",
       "      <td>-0.47854</td>\n",
       "      <td>-0.193167</td>\n",
       "      <td>-0.085126</td>\n",
       "      <td>-0.046507</td>\n",
       "      <td>-0.037959</td>\n",
       "      <td>-0.037959</td>\n",
       "      <td>-0.097164</td>\n",
       "      <td>...</td>\n",
       "      <td>-0.026832</td>\n",
       "      <td>-0.026832</td>\n",
       "      <td>-0.026832</td>\n",
       "      <td>-0.053722</td>\n",
       "      <td>-0.026832</td>\n",
       "      <td>-0.026832</td>\n",
       "      <td>-0.026832</td>\n",
       "      <td>-0.026832</td>\n",
       "      <td>-0.104447</td>\n",
       "      <td>3.480403</td>\n",
       "    </tr>\n",
       "    <tr>\n",
       "      <th>3</th>\n",
       "      <td>-0.438651</td>\n",
       "      <td>-0.601410</td>\n",
       "      <td>-0.874048</td>\n",
       "      <td>-0.47854</td>\n",
       "      <td>-0.193167</td>\n",
       "      <td>-0.085126</td>\n",
       "      <td>-0.046507</td>\n",
       "      <td>-0.037959</td>\n",
       "      <td>-0.037959</td>\n",
       "      <td>-0.097164</td>\n",
       "      <td>...</td>\n",
       "      <td>-0.026832</td>\n",
       "      <td>-0.026832</td>\n",
       "      <td>-0.026832</td>\n",
       "      <td>-0.053722</td>\n",
       "      <td>-0.026832</td>\n",
       "      <td>-0.026832</td>\n",
       "      <td>-0.026832</td>\n",
       "      <td>-0.026832</td>\n",
       "      <td>-0.104447</td>\n",
       "      <td>3.480403</td>\n",
       "    </tr>\n",
       "    <tr>\n",
       "      <th>4</th>\n",
       "      <td>-0.738282</td>\n",
       "      <td>-0.705699</td>\n",
       "      <td>-0.874048</td>\n",
       "      <td>-0.47854</td>\n",
       "      <td>-0.193167</td>\n",
       "      <td>-0.085126</td>\n",
       "      <td>-0.046507</td>\n",
       "      <td>-0.037959</td>\n",
       "      <td>-0.037959</td>\n",
       "      <td>-0.097164</td>\n",
       "      <td>...</td>\n",
       "      <td>-0.026832</td>\n",
       "      <td>-0.026832</td>\n",
       "      <td>-0.026832</td>\n",
       "      <td>-0.053722</td>\n",
       "      <td>-0.026832</td>\n",
       "      <td>-0.026832</td>\n",
       "      <td>-0.026832</td>\n",
       "      <td>-0.026832</td>\n",
       "      <td>-0.104447</td>\n",
       "      <td>3.480403</td>\n",
       "    </tr>\n",
       "  </tbody>\n",
       "</table>\n",
       "<p>5 rows × 82 columns</p>\n",
       "</div>"
      ],
      "text/plain": [
       "      price      area  No_of_rooms_2  No_of_rooms_3  No_of_rooms_4  \\\n",
       "0 -0.272409 -0.661004      -0.874048       -0.47854      -0.193167   \n",
       "1 -0.161582 -0.214052       1.144102       -0.47854      -0.193167   \n",
       "2 -0.746990 -0.767421      -0.874048       -0.47854      -0.193167   \n",
       "3 -0.438651 -0.601410      -0.874048       -0.47854      -0.193167   \n",
       "4 -0.738282 -0.705699      -0.874048       -0.47854      -0.193167   \n",
       "\n",
       "   No_of_rooms_5  No_of_rooms_6  No_of_rooms_Apartment  No_of_rooms_House  \\\n",
       "0      -0.085126      -0.046507              -0.037959          -0.037959   \n",
       "1      -0.085126      -0.046507              -0.037959          -0.037959   \n",
       "2      -0.085126      -0.046507              -0.037959          -0.037959   \n",
       "3      -0.085126      -0.046507              -0.037959          -0.037959   \n",
       "4      -0.085126      -0.046507              -0.037959          -0.037959   \n",
       "\n",
       "   No_of_rooms_Studio  ...    day_37    day_41    day_42    day_45    day_47  \\\n",
       "0           -0.097164  ... -0.026832 -0.026832 -0.026832 -0.053722 -0.026832   \n",
       "1           -0.097164  ... -0.026832 -0.026832 -0.026832 -0.053722 -0.026832   \n",
       "2           -0.097164  ... -0.026832 -0.026832 -0.026832 -0.053722 -0.026832   \n",
       "3           -0.097164  ... -0.026832 -0.026832 -0.026832 -0.053722 -0.026832   \n",
       "4           -0.097164  ... -0.026832 -0.026832 -0.026832 -0.053722 -0.026832   \n",
       "\n",
       "     day_51  day_Regent  day_Symbolic  furnished_Semi-Furnished  \\\n",
       "0 -0.026832   -0.026832     -0.026832                 -0.104447   \n",
       "1 -0.026832   -0.026832     -0.026832                  9.574271   \n",
       "2 -0.026832   -0.026832     -0.026832                 -0.104447   \n",
       "3 -0.026832   -0.026832     -0.026832                 -0.104447   \n",
       "4 -0.026832   -0.026832     -0.026832                 -0.104447   \n",
       "\n",
       "   furnished_Unfurnished  \n",
       "0               3.480403  \n",
       "1              -0.287323  \n",
       "2               3.480403  \n",
       "3               3.480403  \n",
       "4               3.480403  \n",
       "\n",
       "[5 rows x 82 columns]"
      ]
     },
     "execution_count": 63,
     "metadata": {},
     "output_type": "execute_result"
    }
   ],
   "source": [
    "from sklearn.preprocessing import StandardScaler\n",
    "scaler = StandardScaler()\n",
    "std_scaled_df = scaler.fit_transform(dum_df)\n",
    "std_scaled_df = pd.DataFrame(std_scaled_df, columns=dum_df.columns)\n",
    "std_scaled_df.head()"
   ]
  },
  {
   "cell_type": "code",
   "execution_count": 60,
   "metadata": {},
   "outputs": [
    {
     "name": "stdout",
     "output_type": "stream",
     "text": [
      " VIF score for area is: 1.0\n"
     ]
    }
   ],
   "source": [
    "#Using user defined function to calculate VIF Score\n",
    "import statsmodels.formula.api as smf\n",
    "def vif_cal(input_data, dependent_col):\n",
    "    x_vars=input_data.drop([dependent_col], axis=1)\n",
    "    xvar_names=x_vars.columns\n",
    "    for i in range(0, xvar_names.shape[0]):\n",
    "        y=x_vars[xvar_names[i]] \n",
    "        x=x_vars[xvar_names.drop(xvar_names[i])]\n",
    "        rsq=smf.ols(formula='y~x', data=x_vars).fit().rsquared  \n",
    "        vif=round(1/(1-rsq),2)\n",
    "        print( \" VIF score for\", xvar_names[i], \"is:\" , vif)\n",
    "vif_cal(df_appartment.select_dtypes(np.number),'price')"
   ]
  },
  {
   "cell_type": "code",
   "execution_count": 117,
   "metadata": {},
   "outputs": [
    {
     "data": {
      "image/png": "[encoded data removed]",
      "text/plain": [
       "<Figure size 360x360 with 2 Axes>"
      ]
     },
     "metadata": {
      "needs_background": "light"
     },
     "output_type": "display_data"
    }
   ],
   "source": [
    "plt.figure(figsize=(5,5))\n",
    "c= df_appartment.corr()\n",
    "sns.heatmap(c,cmap=\"BrBG\",vmin=-1,vmax=1,annot=True)\n",
    "plt.show()"
   ]
  },
  {
   "cell_type": "code",
   "execution_count": 71,
   "metadata": {},
   "outputs": [],
   "source": [
    "X=dum_df.drop([\"price\"],axis=1)\n",
    "y=dum_df.price"
   ]
  },
  {
   "cell_type": "code",
   "execution_count": 72,
   "metadata": {},
   "outputs": [],
   "source": [
    "#cross validation,residual plot"
   ]
  },
  {
   "cell_type": "code",
   "execution_count": 73,
   "metadata": {},
   "outputs": [],
   "source": [
    "from sklearn.model_selection import train_test_split \n",
    "seed = 10\n",
    "X_train, X_test, y_train, y_test = train_test_split(X, y, test_size=0.2, random_state = seed)"
   ]
  },
  {
   "cell_type": "code",
   "execution_count": 74,
   "metadata": {},
   "outputs": [],
   "source": [
    "#Model training\n",
    "from sklearn.linear_model import LinearRegression\n",
    "model = LinearRegression()\n",
    "result = model.fit(X_train, y_train)"
   ]
  },
  {
   "cell_type": "code",
   "execution_count": 126,
   "metadata": {},
   "outputs": [],
   "source": [
    "#!pip install yellowbrick"
   ]
  },
  {
   "cell_type": "code",
   "execution_count": 79,
   "metadata": {},
   "outputs": [
    {
     "name": "stdout",
     "output_type": "stream",
     "text": [
      "R-squared Training 0.779170236920887\n",
      "R-squared Testing 0.7480403750046536\n",
      "Train RMSE :  1.164776181088653\n",
      "Test RMSE :  1.3598934907245843\n"
     ]
    }
   ],
   "source": [
    "y_train_pred = result.predict(X_train)\n",
    "y_test_pred = result.predict(X_test)\n",
    "from sklearn.metrics import r2_score, mean_squared_error\n",
    "#print(LR_model1.score(X_train, y_train))\n",
    "print (\"R-squared Training\",r2_score(y_train, y_train_pred))\n",
    "print (\"R-squared Testing\",r2_score(y_test, y_test_pred))\n",
    "print (\"Train RMSE : \",np.sqrt(mean_squared_error(y_train, y_train_pred)))\n",
    "print (\"Test RMSE : \",np.sqrt(mean_squared_error(y_test, y_test_pred)))"
   ]
  },
  {
   "cell_type": "code",
   "execution_count": 80,
   "metadata": {},
   "outputs": [
    {
     "data": {
      "image/png": "[encoded data removed]",
      "text/plain": [
       "<Figure size 432x288 with 1 Axes>"
      ]
     },
     "metadata": {
      "needs_background": "light"
     },
     "output_type": "display_data"
    }
   ],
   "source": [
    "fig, ax = plt.subplots()\n",
    "ax.scatter(y_test, y_test_pred, edgecolors=(0, 0, 0))\n",
    "ax.plot([y_test.min(), y_test_pred.max()], [y_test.min(), y_test_pred.max()], 'k--', lw=4)\n",
    "ax.set_xlabel('Actual')\n",
    "ax.set_ylabel('Predicted')\n",
    "ax.set_title(\"Actual vs Predicted\")\n",
    "plt.show()"
   ]
  },
  {
   "cell_type": "code",
   "execution_count": 78,
   "metadata": {},
   "outputs": [
    {
     "data": {
      "image/png": "[encoded data removed]",
      "text/plain": [
       "<Figure size 432x288 with 2 Axes>"
      ]
     },
     "metadata": {
      "needs_background": "light"
     },
     "output_type": "display_data"
    },
    {
     "data": {
      "text/plain": [
       "<matplotlib.axes._subplots.AxesSubplot at 0x1ef1cf607f0>"
      ]
     },
     "execution_count": 78,
     "metadata": {},
     "output_type": "execute_result"
    }
   ],
   "source": [
    "from sklearn.linear_model import LinearRegression\n",
    "from yellowbrick.regressor import ResidualsPlot\n",
    "model = LinearRegression()\n",
    "visualizer = ResidualsPlot(model)\n",
    "\n",
    "visualizer.fit(X_train, y_train)  # Fit the training data to the visualizer\n",
    "visualizer.score(X_test, y_test)  # Evaluate the model on the test data\n",
    "visualizer.show()                 # Finalize and render the figure"
   ]
  },
  {
   "cell_type": "markdown",
   "metadata": {},
   "source": [
    "# Model selection and tunning parameters "
   ]
  },
  {
   "cell_type": "markdown",
   "metadata": {},
   "source": [
    "# Ridge"
   ]
  },
  {
   "cell_type": "code",
   "execution_count": 105,
   "metadata": {},
   "outputs": [
    {
     "name": "stdout",
     "output_type": "stream",
     "text": [
      "GridSearchCV(cv='warn', error_score='raise-deprecating',\n",
      "             estimator=Ridge(alpha=1.0, copy_X=True, fit_intercept=True,\n",
      "                             max_iter=None, normalize=False, random_state=None,\n",
      "                             solver='auto', tol=0.001),\n",
      "             iid='warn', n_jobs=None,\n",
      "             param_grid={'alpha': array([1.e+00, 1.e-01, 1.e-02, 1.e-03, 1.e-04, 0.e+00])},\n",
      "             pre_dispatch='2*n_jobs', refit=True, return_train_score=False,\n",
      "             scoring=None, verbose=0)\n",
      "0.7222895168340653\n",
      "1.0\n"
     ]
    }
   ],
   "source": [
    "from sklearn.linear_model import Ridge\n",
    "from sklearn.model_selection import GridSearchCV\n",
    "# prepare a range of alpha values to test\n",
    "alphas = np.array([1,0.1,0.01,0.001,0.0001,0])\n",
    "# create and fit a ridge regression model, testing each alpha\n",
    "model = Ridge()\n",
    "grid = GridSearchCV(estimator=model, param_grid=dict(alpha=alphas))\n",
    "grid.fit(X_train, y_train)\n",
    "print(grid)\n",
    "# summarize the results of the grid search\n",
    "print(grid.best_score_)\n",
    "print(grid.best_estimator_.alpha)\n",
    "result1 = model.fit(X_train, y_train)"
   ]
  },
  {
   "cell_type": "code",
   "execution_count": 106,
   "metadata": {},
   "outputs": [
    {
     "name": "stdout",
     "output_type": "stream",
     "text": [
      "R-squared Training 0.7740659746211068\n",
      "R-squared Testing 0.7584271214102775\n",
      "Train RMSE :  1.1846180167073332\n",
      "Test RMSE :  1.3067108653377806\n"
     ]
    }
   ],
   "source": [
    "y_train_pred = result1.predict(X_train)\n",
    "y_test_pred = result1.predict(X_test)\n",
    "from sklearn.metrics import r2_score, mean_squared_error\n",
    "#print(LR_model1.score(X_train, y_train))\n",
    "print (\"R-squared Training\",r2_score(y_train, y_train_pred))\n",
    "print (\"R-squared Testing\",r2_score(y_test, y_test_pred))\n",
    "print (\"Train RMSE : \",np.sqrt(mean_squared_error(y_train, y_train_pred)))\n",
    "print (\"Test RMSE : \",np.sqrt(mean_squared_error(y_test, y_test_pred)))"
   ]
  },
  {
   "cell_type": "code",
   "execution_count": 107,
   "metadata": {},
   "outputs": [
    {
     "data": {
      "image/png": "[encoded data removed]",
      "text/plain": [
       "<Figure size 432x288 with 1 Axes>"
      ]
     },
     "metadata": {
      "needs_background": "light"
     },
     "output_type": "display_data"
    }
   ],
   "source": [
    "fig, ax = plt.subplots()\n",
    "ax.scatter(y_test, y_test_pred, edgecolors=(0, 0, 0))\n",
    "ax.plot([y_test.min(), y_test_pred.max()], [y_test.min(), y_test_pred.max()], 'k--', lw=4)\n",
    "ax.set_xlabel('Actual')\n",
    "ax.set_ylabel('Predicted')\n",
    "ax.set_title(\"Actual vs Predicted\")\n",
    "plt.show()"
   ]
  },
  {
   "cell_type": "code",
   "execution_count": 108,
   "metadata": {},
   "outputs": [
    {
     "data": {
      "image/png": "[encoded data removed]",
      "text/plain": [
       "<Figure size 432x288 with 2 Axes>"
      ]
     },
     "metadata": {
      "needs_background": "light"
     },
     "output_type": "display_data"
    },
    {
     "data": {
      "text/plain": [
       "<matplotlib.axes._subplots.AxesSubplot at 0x1ef2b27a4e0>"
      ]
     },
     "execution_count": 108,
     "metadata": {},
     "output_type": "execute_result"
    }
   ],
   "source": [
    "from sklearn.linear_model import Ridge\n",
    "from yellowbrick.regressor import ResidualsPlot\n",
    "model = Ridge()\n",
    "visualizer = ResidualsPlot(model)\n",
    "\n",
    "visualizer.fit(X_train, y_train)  # Fit the training data to the visualizer\n",
    "visualizer.score(X_test, y_test)  # Evaluate the model on the test data\n",
    "visualizer.show()                 # Finalize and render the figure"
   ]
  },
  {
   "cell_type": "markdown",
   "metadata": {},
   "source": [
    "# LASSO"
   ]
  },
  {
   "cell_type": "code",
   "execution_count": 110,
   "metadata": {},
   "outputs": [
    {
     "name": "stdout",
     "output_type": "stream",
     "text": [
      "GridSearchCV(cv='warn', error_score='raise-deprecating',\n",
      "             estimator=Lasso(alpha=1.0, copy_X=True, fit_intercept=True,\n",
      "                             max_iter=1000, normalize=False, positive=False,\n",
      "                             precompute=False, random_state=None,\n",
      "                             selection='cyclic', tol=0.0001, warm_start=False),\n",
      "             iid='warn', n_jobs=None,\n",
      "             param_grid={'alpha': array([1.e+00, 1.e-01, 1.e-02, 1.e-03, 1.e-04, 0.e+00])},\n",
      "             pre_dispatch='2*n_jobs', refit=True, return_train_score=False,\n",
      "             scoring=None, verbose=0)\n",
      "0.7319722129874612\n",
      "0.01\n"
     ]
    }
   ],
   "source": [
    "from sklearn.linear_model import Lasso\n",
    "from sklearn.model_selection import GridSearchCV\n",
    "# prepare a range of alpha values to test\n",
    "alphas = np.array([1,0.1,0.01,0.001,0.0001,0])\n",
    "# create and fit a ridge regression model, testing each alpha\n",
    "model = Lasso()\n",
    "grid = GridSearchCV(estimator=model, param_grid=dict(alpha=alphas))\n",
    "grid.fit(X_train, y_train)\n",
    "print(grid)\n",
    "# summarize the results of the grid search\n",
    "print(grid.best_score_)\n",
    "print(grid.best_estimator_.alpha)\n",
    "result2 = model.fit(X_train, y_train)"
   ]
  },
  {
   "cell_type": "code",
   "execution_count": 111,
   "metadata": {},
   "outputs": [
    {
     "name": "stdout",
     "output_type": "stream",
     "text": [
      "R-squared Training 0.7497698826636172\n",
      "R-squared Testing 0.7475293035518371\n",
      "Train RMSE :  1.2466866337325822\n",
      "Test RMSE :  1.335859871614771\n"
     ]
    }
   ],
   "source": [
    "y_train_pred = result2.predict(X_train)\n",
    "y_test_pred = result2.predict(X_test)\n",
    "from sklearn.metrics import r2_score, mean_squared_error\n",
    "#print(LR_model1.score(X_train, y_train))\n",
    "print (\"R-squared Training\",r2_score(y_train, y_train_pred))\n",
    "print (\"R-squared Testing\",r2_score(y_test, y_test_pred))\n",
    "print (\"Train RMSE : \",np.sqrt(mean_squared_error(y_train, y_train_pred)))\n",
    "print (\"Test RMSE : \",np.sqrt(mean_squared_error(y_test, y_test_pred)))"
   ]
  },
  {
   "cell_type": "code",
   "execution_count": 112,
   "metadata": {},
   "outputs": [
    {
     "data": {
      "image/png": "[encoded data removed]",
      "text/plain": [
       "<Figure size 432x288 with 1 Axes>"
      ]
     },
     "metadata": {
      "needs_background": "light"
     },
     "output_type": "display_data"
    }
   ],
   "source": [
    "fig, ax = plt.subplots()\n",
    "ax.scatter(y_test, y_test_pred, edgecolors=(0, 0, 0))\n",
    "ax.plot([y_test.min(), y_test_pred.max()], [y_test.min(), y_test_pred.max()], 'k--', lw=4)\n",
    "ax.set_xlabel('Actual')\n",
    "ax.set_ylabel('Predicted')\n",
    "ax.set_title(\"Actual vs Predicted\")\n",
    "plt.show()"
   ]
  },
  {
   "cell_type": "code",
   "execution_count": 113,
   "metadata": {},
   "outputs": [
    {
     "data": {
      "image/png": "[encoded data removed]",
      "text/plain": [
       "<Figure size 432x288 with 2 Axes>"
      ]
     },
     "metadata": {
      "needs_background": "light"
     },
     "output_type": "display_data"
    },
    {
     "data": {
      "text/plain": [
       "<matplotlib.axes._subplots.AxesSubplot at 0x1ef2b4d52b0>"
      ]
     },
     "execution_count": 113,
     "metadata": {},
     "output_type": "execute_result"
    }
   ],
   "source": [
    "from sklearn.linear_model import Lasso\n",
    "from yellowbrick.regressor import ResidualsPlot\n",
    "model = Lasso()\n",
    "visualizer = ResidualsPlot(model)\n",
    "\n",
    "visualizer.fit(X_train, y_train)  # Fit the training data to the visualizer\n",
    "visualizer.score(X_test, y_test)  # Evaluate the model on the test data\n",
    "visualizer.show()                 # Finalize and render the figure"
   ]
  },
  {
   "cell_type": "markdown",
   "metadata": {},
   "source": [
    " # Decision tree"
   ]
  },
  {
   "cell_type": "code",
   "execution_count": null,
   "metadata": {},
   "outputs": [],
   "source": [
    "X=dum_df.drop([\"price\"],axis=1)\n",
    "y=dum_df.price"
   ]
  },
  {
   "cell_type": "code",
   "execution_count": 131,
   "metadata": {},
   "outputs": [
    {
     "data": {
      "text/plain": [
       "DecisionTreeRegressor(criterion='mse', max_depth=None, max_features=None,\n",
       "                      max_leaf_nodes=None, min_impurity_decrease=0.0,\n",
       "                      min_impurity_split=None, min_samples_leaf=1,\n",
       "                      min_samples_split=2, min_weight_fraction_leaf=0.0,\n",
       "                      presort=False, random_state=0, splitter='best')"
      ]
     },
     "execution_count": 131,
     "metadata": {},
     "output_type": "execute_result"
    }
   ],
   "source": [
    "# import the regressor \n",
    "from sklearn.tree import DecisionTreeRegressor  \n",
    "  \n",
    "# create a regressor object \n",
    "regressor = DecisionTreeRegressor(random_state = 0)  \n",
    "  \n",
    "# fit the regressor with X and Y data \n",
    "regressor.fit(X, y) "
   ]
  },
  {
   "cell_type": "code",
   "execution_count": 114,
   "metadata": {
    "scrolled": true
   },
   "outputs": [
    {
     "name": "stdout",
     "output_type": "stream",
     "text": [
      "Best Criterion: mse\n",
      "Best max_depth: 8\n",
      "\n",
      "DecisionTreeRegressor(criterion='mse', max_depth=8, max_features=None,\n",
      "                      max_leaf_nodes=None, min_impurity_decrease=0.0,\n",
      "                      min_impurity_split=None, min_samples_leaf=1,\n",
      "                      min_samples_split=2, min_weight_fraction_leaf=0.0,\n",
      "                      presort=False, random_state=None, splitter='best')\n",
      "\n",
      "[ 0.77368535 -0.03710551  0.58675933  0.62298516]\n",
      "\n",
      "0.4865810836956479\n",
      "\n",
      "0.3103700466233646\n"
     ]
    }
   ],
   "source": [
    "from sklearn.preprocessing import StandardScaler\n",
    "from sklearn import tree\n",
    "from sklearn.pipeline import Pipeline\n",
    "from sklearn.model_selection import GridSearchCV, cross_val_score\n",
    "# Create an scaler object\n",
    "sc = StandardScaler()\n",
    "max_depth=[8,12]\n",
    "\n",
    "    \n",
    "    # Create a logistic regression object with an L2 penalty\n",
    "decisiontree = tree.DecisionTreeRegressor()\n",
    "\n",
    "    # Create a pipeline of three steps. First, standardize the data.\n",
    "    # Second, tranform the data with PCA.\n",
    "    # Third, train a Decision Tree Classifier on the data.\n",
    "pipe = Pipeline(steps=[('sc', sc),('decisiontree', decisiontree)])\n",
    "\n",
    "    # Create Parameter Space\n",
    "    # Create a list of a sequence of integers from 1 to 30 (the number of features in X + 1)\n",
    "n_components = list(range(1,X.shape[1]+1,1))\n",
    "\n",
    "    # Create lists of parameter for Decision Tree Classifier\n",
    "\n",
    "\n",
    "    # Create a dictionary of all the parameter options \n",
    "    # Note has you can access the parameters of steps of a pipeline by using '__’\n",
    "parameters = dict(decisiontree__max_depth=max_depth)\n",
    "\n",
    "    # Conduct Parameter Optmization With Pipeline\n",
    "    # Create a grid search object\n",
    "clf = GridSearchCV(pipe, parameters)\n",
    "\n",
    "    # Fit the grid search\n",
    "clf.fit(X, y)\n",
    "\n",
    "    # View The Best Parameters\n",
    "print('Best Criterion:', clf.best_estimator_.get_params()['decisiontree__criterion'])\n",
    "print('Best max_depth:', clf.best_estimator_.get_params()['decisiontree__max_depth'])\n",
    "\n",
    "print(); print(clf.best_estimator_.get_params()['decisiontree'])\n",
    "\n",
    "    # Use Cross Validation To Evaluate Model\n",
    "CV_Result = cross_val_score(clf, X, y, cv=4, n_jobs=-1)\n",
    "print(); print(CV_Result)\n",
    "print(); print(CV_Result.mean())\n",
    "print(); print(CV_Result.std())"
   ]
  },
  {
   "cell_type": "code",
   "execution_count": 115,
   "metadata": {},
   "outputs": [
    {
     "data": {
      "text/plain": [
       "{'decisiontree__max_depth': 8}"
      ]
     },
     "execution_count": 115,
     "metadata": {},
     "output_type": "execute_result"
    }
   ],
   "source": [
    "clf.best_params_"
   ]
  },
  {
   "cell_type": "code",
   "execution_count": 116,
   "metadata": {},
   "outputs": [
    {
     "data": {
      "text/plain": [
       "0.5188110066244027"
      ]
     },
     "execution_count": 116,
     "metadata": {},
     "output_type": "execute_result"
    }
   ],
   "source": [
    "clf.best_score_"
   ]
  },
  {
   "cell_type": "markdown",
   "metadata": {},
   "source": [
    "# Bagged Decision Tree"
   ]
  },
  {
   "cell_type": "code",
   "execution_count": 81,
   "metadata": {},
   "outputs": [],
   "source": [
    "#bin target variable for better sampling\n",
    "bins = 50*np.arange(8)\n",
    "binned_y = np.digitize(y, bins)\n",
    "from sklearn.model_selection import train_test_split\n",
    "X_train, X_test, y_train, y_test = train_test_split(X, y, test_size=0.2,stratify=binned_y)"
   ]
  },
  {
   "cell_type": "code",
   "execution_count": 82,
   "metadata": {},
   "outputs": [],
   "source": [
    "from sklearn.ensemble import BaggingRegressor\n",
    "from sklearn.tree import DecisionTreeRegressor\n",
    "from sklearn.model_selection import GridSearchCV"
   ]
  },
  {
   "cell_type": "code",
   "execution_count": 83,
   "metadata": {},
   "outputs": [],
   "source": [
    "single_estimator = DecisionTreeRegressor()\n",
    "ensemble_estimator = BaggingRegressor(base_estimator = single_estimator)"
   ]
  },
  {
   "cell_type": "code",
   "execution_count": 84,
   "metadata": {},
   "outputs": [
    {
     "data": {
      "text/plain": [
       "GridSearchCV(cv=10, error_score='raise-deprecating',\n",
       "             estimator=BaggingRegressor(base_estimator=DecisionTreeRegressor(criterion='mse',\n",
       "                                                                             max_depth=None,\n",
       "                                                                             max_features=None,\n",
       "                                                                             max_leaf_nodes=None,\n",
       "                                                                             min_impurity_decrease=0.0,\n",
       "                                                                             min_impurity_split=None,\n",
       "                                                                             min_samples_leaf=1,\n",
       "                                                                             min_samples_split=2,\n",
       "                                                                             min_weight_fraction_leaf=0.0,\n",
       "                                                                             presort=False,\n",
       "                                                                             random_state=None,\n",
       "                                                                             splitter='best')...\n",
       "                                        n_estimators=10, n_jobs=None,\n",
       "                                        oob_score=False, random_state=None,\n",
       "                                        verbose=0, warm_start=False),\n",
       "             iid='warn', n_jobs=-1,\n",
       "             param_grid={'base_estimator__max_depth': [3, 5],\n",
       "                         'base_estimator__min_samples_leaf': [2, 5],\n",
       "                         'base_estimator__min_samples_split': [2, 4],\n",
       "                         'n_estimators': [100, 150],\n",
       "                         'oob_score': [True, False]},\n",
       "             pre_dispatch='2*n_jobs', refit=True, return_train_score=False,\n",
       "             scoring=None, verbose=0)"
      ]
     },
     "execution_count": 84,
     "metadata": {},
     "output_type": "execute_result"
    }
   ],
   "source": [
    "param_grid = param_grid = {'oob_score' : [True, False],'n_estimators':[100,150],'base_estimator__max_depth':[3,5],\n",
    "                           \"base_estimator__min_samples_leaf\": [2,5],\"base_estimator__min_samples_split\":[2,4],}\n",
    "random_bag = GridSearchCV(ensemble_estimator,param_grid, cv=10,n_jobs=-1)\n",
    "random_bag.fit(X_train,y_train)"
   ]
  },
  {
   "cell_type": "code",
   "execution_count": 85,
   "metadata": {},
   "outputs": [
    {
     "data": {
      "text/plain": [
       "{'base_estimator__max_depth': 5,\n",
       " 'base_estimator__min_samples_leaf': 5,\n",
       " 'base_estimator__min_samples_split': 4,\n",
       " 'n_estimators': 150,\n",
       " 'oob_score': True}"
      ]
     },
     "execution_count": 85,
     "metadata": {},
     "output_type": "execute_result"
    }
   ],
   "source": [
    "random_bag.best_params_"
   ]
  },
  {
   "cell_type": "code",
   "execution_count": 86,
   "metadata": {},
   "outputs": [
    {
     "data": {
      "text/plain": [
       "BaggingRegressor(base_estimator=DecisionTreeRegressor(criterion='mse',\n",
       "                                                      max_depth=5,\n",
       "                                                      max_features=None,\n",
       "                                                      max_leaf_nodes=None,\n",
       "                                                      min_impurity_decrease=0.0,\n",
       "                                                      min_impurity_split=None,\n",
       "                                                      min_samples_leaf=5,\n",
       "                                                      min_samples_split=4,\n",
       "                                                      min_weight_fraction_leaf=0.0,\n",
       "                                                      presort=False,\n",
       "                                                      random_state=None,\n",
       "                                                      splitter='best'),\n",
       "                 bootstrap=True, bootstrap_features=False, max_features=1.0,\n",
       "                 max_samples=1.0, n_estimators=150, n_jobs=None, oob_score=True,\n",
       "                 random_state=None, verbose=0, warm_start=False)"
      ]
     },
     "execution_count": 86,
     "metadata": {},
     "output_type": "execute_result"
    }
   ],
   "source": [
    "DTbagging_model_1 = random_bag.best_estimator_\n",
    "DTbagging_model_1.fit(X_train, y_train) "
   ]
  },
  {
   "cell_type": "code",
   "execution_count": 87,
   "metadata": {},
   "outputs": [
    {
     "name": "stdout",
     "output_type": "stream",
     "text": [
      "R-squared Training 0.8028937884960422\n",
      "R-squared Testing 0.6873804017794123\n",
      "Train RMSE :  1.15757418745997\n",
      "Test RMSE  :  1.213336537092128\n"
     ]
    }
   ],
   "source": [
    "y_train_pred = DTbagging_model_1.predict(X_train)\n",
    "y_test_pred = DTbagging_model_1.predict(X_test)\n",
    "from sklearn.metrics import r2_score, mean_squared_error\n",
    "print (\"R-squared Training\",r2_score(y_train, y_train_pred))\n",
    "print (\"R-squared Testing\",r2_score(y_test, y_test_pred))\n",
    "print (\"Train RMSE : \",np.sqrt(mean_squared_error(y_train, y_train_pred)))\n",
    "print (\"Test RMSE  : \",np.sqrt(mean_squared_error(y_test, y_test_pred)))"
   ]
  },
  {
   "cell_type": "code",
   "execution_count": 88,
   "metadata": {},
   "outputs": [
    {
     "data": {
      "image/png": "[encoded data removed]",
      "text/plain": [
       "<Figure size 432x288 with 1 Axes>"
      ]
     },
     "metadata": {
      "needs_background": "light"
     },
     "output_type": "display_data"
    }
   ],
   "source": [
    "fig, ax = plt.subplots()\n",
    "ax.scatter(y_test, y_test_pred, edgecolors=(0, 0, 0))\n",
    "ax.plot([y_test.min(), y_test_pred.max()], [y_test.min(), y_test_pred.max()], 'k--', lw=4)\n",
    "ax.set_xlabel('Actual')\n",
    "ax.set_ylabel('Predicted')\n",
    "ax.set_title(\"Actual vs Predicted\")\n",
    "plt.show()"
   ]
  },
  {
   "cell_type": "markdown",
   "metadata": {},
   "source": [
    "# Bagging KNeighborsRegressor"
   ]
  },
  {
   "cell_type": "code",
   "execution_count": 89,
   "metadata": {},
   "outputs": [],
   "source": [
    "#bin target variable for better sampling\n",
    "bins = 50*np.arange(8)\n",
    "binned_y = np.digitize(y, bins)\n",
    "from sklearn.model_selection import train_test_split\n",
    "X_train, X_test, y_train, y_test = train_test_split(X, y, test_size=0.2,stratify=binned_y)"
   ]
  },
  {
   "cell_type": "code",
   "execution_count": 90,
   "metadata": {},
   "outputs": [],
   "source": [
    "from sklearn.model_selection import train_test_split\n",
    "X_train, X_test, y_train, y_test = train_test_split(X, y, test_size=0.2,stratify=binned_y)"
   ]
  },
  {
   "cell_type": "code",
   "execution_count": 91,
   "metadata": {},
   "outputs": [],
   "source": [
    "from sklearn.ensemble import BaggingRegressor\n",
    "from sklearn.neighbors import KNeighborsRegressor\n",
    "from sklearn.model_selection import GridSearchCV"
   ]
  },
  {
   "cell_type": "code",
   "execution_count": 92,
   "metadata": {},
   "outputs": [],
   "source": [
    "single_estimator = KNeighborsRegressor()\n",
    "ensemble_estimator = BaggingRegressor(base_estimator = single_estimator)"
   ]
  },
  {
   "cell_type": "code",
   "execution_count": 93,
   "metadata": {},
   "outputs": [
    {
     "data": {
      "text/plain": [
       "GridSearchCV(cv=10, error_score='raise-deprecating',\n",
       "             estimator=BaggingRegressor(base_estimator=KNeighborsRegressor(algorithm='auto',\n",
       "                                                                           leaf_size=30,\n",
       "                                                                           metric='minkowski',\n",
       "                                                                           metric_params=None,\n",
       "                                                                           n_jobs=None,\n",
       "                                                                           n_neighbors=5,\n",
       "                                                                           p=2,\n",
       "                                                                           weights='uniform'),\n",
       "                                        bootstrap=True,\n",
       "                                        bootstrap_features=False,\n",
       "                                        max_features=1.0, max_samples=1.0,\n",
       "                                        n_estimators=10, n_jobs=None,\n",
       "                                        oob_score=False, random_state=None,\n",
       "                                        verbose=0, warm_start=False),\n",
       "             iid='warn', n_jobs=-1,\n",
       "             param_grid={'base_estimator__n_neighbors': [3, 7, 9],\n",
       "                         'n_estimators': [100, 150],\n",
       "                         'oob_score': [True, False]},\n",
       "             pre_dispatch='2*n_jobs', refit=True, return_train_score=False,\n",
       "             scoring=None, verbose=0)"
      ]
     },
     "execution_count": 93,
     "metadata": {},
     "output_type": "execute_result"
    }
   ],
   "source": [
    "param_grid = {'oob_score' : [True, False],\n",
    "              'n_estimators': [100,150],\n",
    "              'base_estimator__n_neighbors':[3,7,9]\n",
    "              }\n",
    "random_bag = GridSearchCV(ensemble_estimator,param_grid, cv=10,n_jobs=-1)\n",
    "random_bag.fit(X_train,y_train)"
   ]
  },
  {
   "cell_type": "code",
   "execution_count": 94,
   "metadata": {},
   "outputs": [
    {
     "data": {
      "text/plain": [
       "{'base_estimator__n_neighbors': 7, 'n_estimators': 100, 'oob_score': True}"
      ]
     },
     "execution_count": 94,
     "metadata": {},
     "output_type": "execute_result"
    }
   ],
   "source": [
    "random_bag.best_params_"
   ]
  },
  {
   "cell_type": "code",
   "execution_count": 95,
   "metadata": {},
   "outputs": [
    {
     "data": {
      "text/plain": [
       "BaggingRegressor(base_estimator=KNeighborsRegressor(algorithm='auto',\n",
       "                                                    leaf_size=30,\n",
       "                                                    metric='minkowski',\n",
       "                                                    metric_params=None,\n",
       "                                                    n_jobs=None, n_neighbors=7,\n",
       "                                                    p=2, weights='uniform'),\n",
       "                 bootstrap=True, bootstrap_features=False, max_features=1.0,\n",
       "                 max_samples=1.0, n_estimators=100, n_jobs=None, oob_score=True,\n",
       "                 random_state=None, verbose=0, warm_start=False)"
      ]
     },
     "execution_count": 95,
     "metadata": {},
     "output_type": "execute_result"
    }
   ],
   "source": [
    "bagging_model_1 = random_bag.best_estimator_\n",
    "bagging_model_1.fit(X_train, y_train)"
   ]
  },
  {
   "cell_type": "code",
   "execution_count": 96,
   "metadata": {},
   "outputs": [
    {
     "name": "stdout",
     "output_type": "stream",
     "text": [
      "R-squared Training 0.8006695729706274\n",
      "R-squared Testing 0.6900601596988738\n",
      "Train RMSE :  1.1771336160944617\n",
      "Test RMSE  :  1.1245639905467328\n"
     ]
    }
   ],
   "source": [
    "y_train_pred = bagging_model_1.predict(X_train)\n",
    "y_pred = bagging_model_1.predict(X_test)\n",
    "from sklearn.metrics import r2_score, mean_squared_error\n",
    "print (\"R-squared Training\",r2_score(y_train, y_train_pred))\n",
    "print (\"R-squared Testing\",r2_score(y_test, y_pred))\n",
    "print (\"Train RMSE : \",np.sqrt(mean_squared_error(y_train, y_train_pred)))\n",
    "print (\"Test RMSE  : \",np.sqrt(mean_squared_error(y_test, y_pred)))"
   ]
  },
  {
   "cell_type": "code",
   "execution_count": 97,
   "metadata": {},
   "outputs": [
    {
     "data": {
      "image/png": "[encoded data removed]",
      "text/plain": [
       "<Figure size 432x288 with 1 Axes>"
      ]
     },
     "metadata": {
      "needs_background": "light"
     },
     "output_type": "display_data"
    }
   ],
   "source": [
    "fig, ax = plt.subplots()\n",
    "ax.scatter(y_test, y_test_pred, edgecolors=(0, 0, 0))\n",
    "ax.plot([y_test.min(), y_test_pred.max()], [y_test.min(), y_test_pred.max()], 'k--', lw=4)\n",
    "ax.set_xlabel('Actual')\n",
    "ax.set_ylabel('Predicted')\n",
    "ax.set_title(\"Actual vs Predicted\")\n",
    "plt.show()"
   ]
  },
  {
   "cell_type": "markdown",
   "metadata": {},
   "source": [
    "# Gradient Boosting Regression"
   ]
  },
  {
   "cell_type": "code",
   "execution_count": 98,
   "metadata": {},
   "outputs": [],
   "source": [
    "bins = 50*np.arange(10)\n",
    "binned_y = np.digitize(y,bins,right=False)"
   ]
  },
  {
   "cell_type": "code",
   "execution_count": 99,
   "metadata": {},
   "outputs": [],
   "source": [
    "from sklearn.model_selection import train_test_split\n",
    "seed=10\n",
    "X_train,X_test,y_train,y_test=train_test_split(X,y,test_size=0.2,random_state=seed,stratify=binned_y)"
   ]
  },
  {
   "cell_type": "code",
   "execution_count": 100,
   "metadata": {},
   "outputs": [
    {
     "data": {
      "text/plain": [
       "GridSearchCV(cv=10, error_score='raise-deprecating',\n",
       "             estimator=GradientBoostingRegressor(alpha=0.9,\n",
       "                                                 criterion='friedman_mse',\n",
       "                                                 init=None, learning_rate=0.1,\n",
       "                                                 loss='ls', max_depth=3,\n",
       "                                                 max_features=None,\n",
       "                                                 max_leaf_nodes=None,\n",
       "                                                 min_impurity_decrease=0.0,\n",
       "                                                 min_impurity_split=None,\n",
       "                                                 min_samples_leaf=1,\n",
       "                                                 min_samples_split=2,\n",
       "                                                 min_weight_fraction_leaf=0.0,\n",
       "                                                 n_estimators=100,\n",
       "                                                 n_ite...\n",
       "                                                 random_state=None,\n",
       "                                                 subsample=1.0, tol=0.0001,\n",
       "                                                 validation_fraction=0.1,\n",
       "                                                 verbose=0, warm_start=True),\n",
       "             iid='warn', n_jobs=-1,\n",
       "             param_grid={'learning_rate': [0.001, 0.01, 0.05, 0.3],\n",
       "                         'loss': ['ls', 'huber'], 'max_depth': [5, 7],\n",
       "                         'min_samples_leaf': [12, 15],\n",
       "                         'min_samples_split': [10, 15], 'n_estimators': [100]},\n",
       "             pre_dispatch='2*n_jobs', refit=True, return_train_score=False,\n",
       "             scoring=None, verbose=0)"
      ]
     },
     "execution_count": 100,
     "metadata": {},
     "output_type": "execute_result"
    }
   ],
   "source": [
    "from sklearn.model_selection import GridSearchCV\n",
    "from sklearn.ensemble import GradientBoostingRegressor\n",
    "param_grid =  {\n",
    "              'max_depth':[5,7],\n",
    "              'min_samples_split':[10,15],\n",
    "              'min_samples_leaf':[12,15],\n",
    "              'n_estimators':[100],\n",
    "              'learning_rate':[0.001,0.01,0.05,0.3],\n",
    "               'loss':['ls','huber']\n",
    "              }\n",
    "Boosted_Regressor = GridSearchCV(GradientBoostingRegressor(warm_start=True),\n",
    "                                  param_grid,cv=10,n_jobs=-1)\n",
    "Boosted_Regressor.fit(X_train,y_train)"
   ]
  },
  {
   "cell_type": "code",
   "execution_count": 101,
   "metadata": {},
   "outputs": [
    {
     "data": {
      "text/plain": [
       "{'learning_rate': 0.05,\n",
       " 'loss': 'huber',\n",
       " 'max_depth': 5,\n",
       " 'min_samples_leaf': 12,\n",
       " 'min_samples_split': 10,\n",
       " 'n_estimators': 100}"
      ]
     },
     "execution_count": 101,
     "metadata": {},
     "output_type": "execute_result"
    }
   ],
   "source": [
    "Boosted_Regressor.best_params_"
   ]
  },
  {
   "cell_type": "code",
   "execution_count": 102,
   "metadata": {},
   "outputs": [],
   "source": [
    "GradientBoosting_model_1=Boosted_Regressor.best_estimator_.fit(X_train,y_train)"
   ]
  },
  {
   "cell_type": "code",
   "execution_count": 103,
   "metadata": {},
   "outputs": [
    {
     "name": "stdout",
     "output_type": "stream",
     "text": [
      "R-squared Training 0.7719952014316598\n",
      "R-squared Testing 0.7919852479863225\n",
      "Train RMSE :  1.190034376614992\n",
      "Test RMSE  :  1.2125578925311395\n"
     ]
    }
   ],
   "source": [
    "y_train_pred = GradientBoosting_model_1.predict(X_train)\n",
    "y_pred = GradientBoosting_model_1.predict(X_test)\n",
    "from sklearn.metrics import r2_score, mean_squared_error\n",
    "print (\"R-squared Training\",r2_score(y_train, y_train_pred))\n",
    "print (\"R-squared Testing\",r2_score(y_test, y_pred))\n",
    "print (\"Train RMSE : \",np.sqrt(mean_squared_error(y_train, y_train_pred)))\n",
    "print (\"Test RMSE  : \",np.sqrt(mean_squared_error(y_test, y_pred)))"
   ]
  },
  {
   "cell_type": "code",
   "execution_count": 104,
   "metadata": {},
   "outputs": [
    {
     "data": {
      "image/png": "[encoded data removed]",
      "text/plain": [
       "<Figure size 432x288 with 1 Axes>"
      ]
     },
     "metadata": {
      "needs_background": "light"
     },
     "output_type": "display_data"
    }
   ],
   "source": [
    "fig, ax = plt.subplots()\n",
    "ax.scatter(y_test, y_test_pred, edgecolors=(0, 0, 0))\n",
    "ax.plot([y_test.min(), y_test_pred.max()], [y_test.min(), y_test_pred.max()], 'k--', lw=4)\n",
    "ax.set_xlabel('Actual')\n",
    "ax.set_ylabel('Predicted')\n",
    "ax.set_title(\"Actual vs Predicted\")\n",
    "plt.show()"
   ]
  },
  {
   "cell_type": "markdown",
   "metadata": {},
   "source": [
    "# SVR"
   ]
  },
  {
   "cell_type": "code",
   "execution_count": 117,
   "metadata": {},
   "outputs": [],
   "source": [
    "X_train, X_test, y_train, y_test = train_test_split(X, y, test_size=0.2, random_state=10)"
   ]
  },
  {
   "cell_type": "code",
   "execution_count": 118,
   "metadata": {},
   "outputs": [
    {
     "ename": "ValueError",
     "evalue": "Expected 2D array, got scalar array instead:\narray=6.5.\nReshape your data either using array.reshape(-1, 1) if your data has a single feature or array.reshape(1, -1) if it contains a single sample.",
     "output_type": "error",
     "traceback": [
      "\u001b[1;31m---------------------------------------------------------------------------\u001b[0m",
      "\u001b[1;31mValueError\u001b[0m                                Traceback (most recent call last)",
      "\u001b[1;32m<ipython-input-118-92c5584175c6>\u001b[0m in \u001b[0;36m<module>\u001b[1;34m\u001b[0m\n\u001b[0;32m      6\u001b[0m \u001b[0mregressor\u001b[0m\u001b[1;33m.\u001b[0m\u001b[0mfit\u001b[0m\u001b[1;33m(\u001b[0m\u001b[0mX\u001b[0m\u001b[1;33m,\u001b[0m\u001b[0my\u001b[0m\u001b[1;33m)\u001b[0m\u001b[1;33m\u001b[0m\u001b[1;33m\u001b[0m\u001b[0m\n\u001b[0;32m      7\u001b[0m \u001b[1;31m#5 Predicting a new result\u001b[0m\u001b[1;33m\u001b[0m\u001b[1;33m\u001b[0m\u001b[1;33m\u001b[0m\u001b[0m\n\u001b[1;32m----> 8\u001b[1;33m \u001b[0my_pred\u001b[0m \u001b[1;33m=\u001b[0m \u001b[0mregressor\u001b[0m\u001b[1;33m.\u001b[0m\u001b[0mpredict\u001b[0m\u001b[1;33m(\u001b[0m\u001b[1;36m6.5\u001b[0m\u001b[1;33m)\u001b[0m\u001b[1;33m\u001b[0m\u001b[1;33m\u001b[0m\u001b[0m\n\u001b[0m",
      "\u001b[1;32m~\\Anaconda3\\lib\\site-packages\\sklearn\\svm\\base.py\u001b[0m in \u001b[0;36mpredict\u001b[1;34m(self, X)\u001b[0m\n\u001b[0;32m    320\u001b[0m         \u001b[0my_pred\u001b[0m \u001b[1;33m:\u001b[0m \u001b[0marray\u001b[0m\u001b[1;33m,\u001b[0m \u001b[0mshape\u001b[0m \u001b[1;33m(\u001b[0m\u001b[0mn_samples\u001b[0m\u001b[1;33m,\u001b[0m\u001b[1;33m)\u001b[0m\u001b[1;33m\u001b[0m\u001b[1;33m\u001b[0m\u001b[0m\n\u001b[0;32m    321\u001b[0m         \"\"\"\n\u001b[1;32m--> 322\u001b[1;33m         \u001b[0mX\u001b[0m \u001b[1;33m=\u001b[0m \u001b[0mself\u001b[0m\u001b[1;33m.\u001b[0m\u001b[0m_validate_for_predict\u001b[0m\u001b[1;33m(\u001b[0m\u001b[0mX\u001b[0m\u001b[1;33m)\u001b[0m\u001b[1;33m\u001b[0m\u001b[1;33m\u001b[0m\u001b[0m\n\u001b[0m\u001b[0;32m    323\u001b[0m         \u001b[0mpredict\u001b[0m \u001b[1;33m=\u001b[0m \u001b[0mself\u001b[0m\u001b[1;33m.\u001b[0m\u001b[0m_sparse_predict\u001b[0m \u001b[1;32mif\u001b[0m \u001b[0mself\u001b[0m\u001b[1;33m.\u001b[0m\u001b[0m_sparse\u001b[0m \u001b[1;32melse\u001b[0m \u001b[0mself\u001b[0m\u001b[1;33m.\u001b[0m\u001b[0m_dense_predict\u001b[0m\u001b[1;33m\u001b[0m\u001b[1;33m\u001b[0m\u001b[0m\n\u001b[0;32m    324\u001b[0m         \u001b[1;32mreturn\u001b[0m \u001b[0mpredict\u001b[0m\u001b[1;33m(\u001b[0m\u001b[0mX\u001b[0m\u001b[1;33m)\u001b[0m\u001b[1;33m\u001b[0m\u001b[1;33m\u001b[0m\u001b[0m\n",
      "\u001b[1;32m~\\Anaconda3\\lib\\site-packages\\sklearn\\svm\\base.py\u001b[0m in \u001b[0;36m_validate_for_predict\u001b[1;34m(self, X)\u001b[0m\n\u001b[0;32m    452\u001b[0m \u001b[1;33m\u001b[0m\u001b[0m\n\u001b[0;32m    453\u001b[0m         X = check_array(X, accept_sparse='csr', dtype=np.float64, order=\"C\",\n\u001b[1;32m--> 454\u001b[1;33m                         accept_large_sparse=False)\n\u001b[0m\u001b[0;32m    455\u001b[0m         \u001b[1;32mif\u001b[0m \u001b[0mself\u001b[0m\u001b[1;33m.\u001b[0m\u001b[0m_sparse\u001b[0m \u001b[1;32mand\u001b[0m \u001b[1;32mnot\u001b[0m \u001b[0msp\u001b[0m\u001b[1;33m.\u001b[0m\u001b[0misspmatrix\u001b[0m\u001b[1;33m(\u001b[0m\u001b[0mX\u001b[0m\u001b[1;33m)\u001b[0m\u001b[1;33m:\u001b[0m\u001b[1;33m\u001b[0m\u001b[1;33m\u001b[0m\u001b[0m\n\u001b[0;32m    456\u001b[0m             \u001b[0mX\u001b[0m \u001b[1;33m=\u001b[0m \u001b[0msp\u001b[0m\u001b[1;33m.\u001b[0m\u001b[0mcsr_matrix\u001b[0m\u001b[1;33m(\u001b[0m\u001b[0mX\u001b[0m\u001b[1;33m)\u001b[0m\u001b[1;33m\u001b[0m\u001b[1;33m\u001b[0m\u001b[0m\n",
      "\u001b[1;32m~\\Anaconda3\\lib\\site-packages\\sklearn\\utils\\validation.py\u001b[0m in \u001b[0;36mcheck_array\u001b[1;34m(array, accept_sparse, accept_large_sparse, dtype, order, copy, force_all_finite, ensure_2d, allow_nd, ensure_min_samples, ensure_min_features, warn_on_dtype, estimator)\u001b[0m\n\u001b[0;32m    512\u001b[0m                     \u001b[1;34m\"Reshape your data either using array.reshape(-1, 1) if \"\u001b[0m\u001b[1;33m\u001b[0m\u001b[1;33m\u001b[0m\u001b[0m\n\u001b[0;32m    513\u001b[0m                     \u001b[1;34m\"your data has a single feature or array.reshape(1, -1) \"\u001b[0m\u001b[1;33m\u001b[0m\u001b[1;33m\u001b[0m\u001b[0m\n\u001b[1;32m--> 514\u001b[1;33m                     \"if it contains a single sample.\".format(array))\n\u001b[0m\u001b[0;32m    515\u001b[0m             \u001b[1;31m# If input is 1D raise error\u001b[0m\u001b[1;33m\u001b[0m\u001b[1;33m\u001b[0m\u001b[1;33m\u001b[0m\u001b[0m\n\u001b[0;32m    516\u001b[0m             \u001b[1;32mif\u001b[0m \u001b[0marray\u001b[0m\u001b[1;33m.\u001b[0m\u001b[0mndim\u001b[0m \u001b[1;33m==\u001b[0m \u001b[1;36m1\u001b[0m\u001b[1;33m:\u001b[0m\u001b[1;33m\u001b[0m\u001b[1;33m\u001b[0m\u001b[0m\n",
      "\u001b[1;31mValueError\u001b[0m: Expected 2D array, got scalar array instead:\narray=6.5.\nReshape your data either using array.reshape(-1, 1) if your data has a single feature or array.reshape(1, -1) if it contains a single sample."
     ]
    }
   ],
   "source": [
    "#4 Fitting the Support Vector Regression Model to the dataset\n",
    "# Create your support vector regressor here\n",
    "from sklearn.svm import SVR\n",
    "# most important SVR parameter is Kernel type. It can be #linear,polynomial or gaussian SVR. We have a non-linear condition #so we can select polynomial or gaussian but here we select RBF(a #gaussian type) kernel.\n",
    "regressor = SVR(kernel='linear')\n",
    "regressor.fit(X,y)\n",
    "#5 Predicting a new result\n"
   ]
  },
  {
   "cell_type": "code",
   "execution_count": 120,
   "metadata": {},
   "outputs": [
    {
     "name": "stdout",
     "output_type": "stream",
     "text": [
      "R-squared Training 0.7533273074954173\n",
      "R-squared Testing 0.7702232121642322\n",
      "Train RMSE :  1.2310458117009282\n",
      "Test RMSE  :  1.2986511226757786\n"
     ]
    }
   ],
   "source": [
    "y_train_pred = regressor.predict(X_train)\n",
    "y_pred = regressor.predict(X_test)\n",
    "from sklearn.metrics import r2_score, mean_squared_error\n",
    "print (\"R-squared Training\",r2_score(y_train, y_train_pred))\n",
    "print (\"R-squared Testing\",r2_score(y_test, y_pred))\n",
    "print (\"Train RMSE : \",np.sqrt(mean_squared_error(y_train, y_train_pred)))\n",
    "print (\"Test RMSE  : \",np.sqrt(mean_squared_error(y_test, y_pred)))"
   ]
  },
  {
   "cell_type": "code",
   "execution_count": 121,
   "metadata": {},
   "outputs": [
    {
     "data": {
      "image/png": "[encoded data removed]",
      "text/plain": [
       "<Figure size 432x288 with 1 Axes>"
      ]
     },
     "metadata": {
      "needs_background": "light"
     },
     "output_type": "display_data"
    }
   ],
   "source": [
    "fig, ax = plt.subplots()\n",
    "ax.scatter(y_test, y_test_pred, edgecolors=(0, 0, 0))\n",
    "ax.plot([y_test.min(), y_test_pred.max()], [y_test.min(), y_test_pred.max()], 'k--', lw=4)\n",
    "ax.set_xlabel('Actual')\n",
    "ax.set_ylabel('Predicted')\n",
    "ax.set_title(\"Actual vs Predicted\")\n",
    "plt.show()"
   ]
  },
  {
   "cell_type": "code",
   "execution_count": null,
   "metadata": {},
   "outputs": [],
   "source": []
  }
 ],
 "metadata": {
  "kernelspec": {
   "display_name": "Python 3",
   "language": "python",
   "name": "python3"
  },
  "language_info": {
   "codemirror_mode": {
    "name": "ipython",
    "version": 3
   },
   "file_extension": ".py",
   "mimetype": "text/x-python",
   "name": "python",
   "nbconvert_exporter": "python",
   "pygments_lexer": "ipython3",
   "version": "3.7.3"
  }
 },
 "nbformat": 4,
 "nbformat_minor": 2
}
